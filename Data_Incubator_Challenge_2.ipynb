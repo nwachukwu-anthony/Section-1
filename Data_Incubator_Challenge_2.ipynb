{
 "cells": [
  {
   "cell_type": "markdown",
   "metadata": {},
   "source": [
    "# Section 2:\n",
    "___"
   ]
  },
  {
   "cell_type": "markdown",
   "metadata": {},
   "source": [
    "## Imports"
   ]
  },
  {
   "cell_type": "code",
   "execution_count": 2,
   "metadata": {},
   "outputs": [],
   "source": [
    "import pandas as pd\n",
    "from shutil import unpack_archive"
   ]
  },
  {
   "cell_type": "markdown",
   "metadata": {},
   "source": [
    "## Extract Data"
   ]
  },
  {
   "cell_type": "code",
   "execution_count": 4,
   "metadata": {
    "scrolled": true
   },
   "outputs": [],
   "source": [
    "unpack_archive('PartD_Prescriber_PUF_NPI_17.zip', './')\n",
    "unpack_archive('PartD_Prescriber_PUF_NPI_16.zip', './')"
   ]
  },
  {
   "cell_type": "code",
   "execution_count": 11,
   "metadata": {},
   "outputs": [
    {
     "data": {
      "text/html": [
       "<div>\n",
       "<style scoped>\n",
       "    .dataframe tbody tr th:only-of-type {\n",
       "        vertical-align: middle;\n",
       "    }\n",
       "\n",
       "    .dataframe tbody tr th {\n",
       "        vertical-align: top;\n",
       "    }\n",
       "\n",
       "    .dataframe thead th {\n",
       "        text-align: right;\n",
       "    }\n",
       "</style>\n",
       "<table border=\"1\" class=\"dataframe\">\n",
       "  <thead>\n",
       "    <tr style=\"text-align: right;\">\n",
       "      <th></th>\n",
       "      <th>npi</th>\n",
       "      <th>nppes_provider_last_org_name</th>\n",
       "      <th>nppes_provider_first_name</th>\n",
       "      <th>nppes_provider_mi</th>\n",
       "      <th>nppes_credentials</th>\n",
       "      <th>nppes_provider_gender</th>\n",
       "      <th>nppes_entity_code</th>\n",
       "      <th>nppes_provider_street1</th>\n",
       "      <th>nppes_provider_street2</th>\n",
       "      <th>nppes_provider_city</th>\n",
       "      <th>...</th>\n",
       "      <th>beneficiary_male_count</th>\n",
       "      <th>beneficiary_race_white_count</th>\n",
       "      <th>beneficiary_race_black_count</th>\n",
       "      <th>beneficiary_race_asian_pi_count</th>\n",
       "      <th>beneficiary_race_hispanic_count</th>\n",
       "      <th>beneficiary_race_nat_ind_count</th>\n",
       "      <th>beneficiary_race_other_count</th>\n",
       "      <th>beneficiary_nondual_count</th>\n",
       "      <th>beneficiary_dual_count</th>\n",
       "      <th>beneficiary_average_risk_score</th>\n",
       "    </tr>\n",
       "  </thead>\n",
       "  <tbody>\n",
       "    <tr>\n",
       "      <th>0</th>\n",
       "      <td>1003000126</td>\n",
       "      <td>ENKESHAFI</td>\n",
       "      <td>ARDALAN</td>\n",
       "      <td>NaN</td>\n",
       "      <td>M.D.</td>\n",
       "      <td>M</td>\n",
       "      <td>I</td>\n",
       "      <td>900 SETON DR</td>\n",
       "      <td>NaN</td>\n",
       "      <td>CUMBERLAND</td>\n",
       "      <td>...</td>\n",
       "      <td>80.0</td>\n",
       "      <td>153.0</td>\n",
       "      <td>NaN</td>\n",
       "      <td>0.0</td>\n",
       "      <td>NaN</td>\n",
       "      <td>0.0</td>\n",
       "      <td>NaN</td>\n",
       "      <td>102.0</td>\n",
       "      <td>68.0</td>\n",
       "      <td>2.1950</td>\n",
       "    </tr>\n",
       "    <tr>\n",
       "      <th>1</th>\n",
       "      <td>1003000142</td>\n",
       "      <td>KHALIL</td>\n",
       "      <td>RASHID</td>\n",
       "      <td>NaN</td>\n",
       "      <td>M.D.</td>\n",
       "      <td>M</td>\n",
       "      <td>I</td>\n",
       "      <td>4126 N HOLLAND SYLVANIA RD</td>\n",
       "      <td>SUITE 220</td>\n",
       "      <td>TOLEDO</td>\n",
       "      <td>...</td>\n",
       "      <td>88.0</td>\n",
       "      <td>159.0</td>\n",
       "      <td>54.0</td>\n",
       "      <td>NaN</td>\n",
       "      <td>NaN</td>\n",
       "      <td>0.0</td>\n",
       "      <td>NaN</td>\n",
       "      <td>108.0</td>\n",
       "      <td>117.0</td>\n",
       "      <td>1.8032</td>\n",
       "    </tr>\n",
       "    <tr>\n",
       "      <th>2</th>\n",
       "      <td>1003000167</td>\n",
       "      <td>ESCOBAR</td>\n",
       "      <td>JULIO</td>\n",
       "      <td>E</td>\n",
       "      <td>DDS</td>\n",
       "      <td>M</td>\n",
       "      <td>I</td>\n",
       "      <td>5 PINE CONE RD</td>\n",
       "      <td>NaN</td>\n",
       "      <td>DAYTON</td>\n",
       "      <td>...</td>\n",
       "      <td>12.0</td>\n",
       "      <td>NaN</td>\n",
       "      <td>0.0</td>\n",
       "      <td>NaN</td>\n",
       "      <td>0.0</td>\n",
       "      <td>0.0</td>\n",
       "      <td>0.0</td>\n",
       "      <td>NaN</td>\n",
       "      <td>NaN</td>\n",
       "      <td>1.0949</td>\n",
       "    </tr>\n",
       "    <tr>\n",
       "      <th>3</th>\n",
       "      <td>1003000282</td>\n",
       "      <td>BLAKEMORE</td>\n",
       "      <td>ROSIE</td>\n",
       "      <td>K</td>\n",
       "      <td>FNP</td>\n",
       "      <td>F</td>\n",
       "      <td>I</td>\n",
       "      <td>TENNESSEE PRISON FOR WOMEN</td>\n",
       "      <td>3881 STEWARTS LANE</td>\n",
       "      <td>NASHVILLE</td>\n",
       "      <td>...</td>\n",
       "      <td>11.0</td>\n",
       "      <td>NaN</td>\n",
       "      <td>NaN</td>\n",
       "      <td>0.0</td>\n",
       "      <td>0.0</td>\n",
       "      <td>0.0</td>\n",
       "      <td>0.0</td>\n",
       "      <td>NaN</td>\n",
       "      <td>NaN</td>\n",
       "      <td>1.7014</td>\n",
       "    </tr>\n",
       "    <tr>\n",
       "      <th>4</th>\n",
       "      <td>1003000407</td>\n",
       "      <td>GIRARDI</td>\n",
       "      <td>DAVID</td>\n",
       "      <td>J</td>\n",
       "      <td>D.O.</td>\n",
       "      <td>M</td>\n",
       "      <td>I</td>\n",
       "      <td>100 HOSPITAL RD</td>\n",
       "      <td>NaN</td>\n",
       "      <td>BROOKVILLE</td>\n",
       "      <td>...</td>\n",
       "      <td>64.0</td>\n",
       "      <td>NaN</td>\n",
       "      <td>NaN</td>\n",
       "      <td>0.0</td>\n",
       "      <td>0.0</td>\n",
       "      <td>0.0</td>\n",
       "      <td>NaN</td>\n",
       "      <td>129.0</td>\n",
       "      <td>61.0</td>\n",
       "      <td>1.9105</td>\n",
       "    </tr>\n",
       "  </tbody>\n",
       "</table>\n",
       "<p>5 rows × 84 columns</p>\n",
       "</div>"
      ],
      "text/plain": [
       "          npi nppes_provider_last_org_name nppes_provider_first_name  \\\n",
       "0  1003000126                    ENKESHAFI                   ARDALAN   \n",
       "1  1003000142                       KHALIL                    RASHID   \n",
       "2  1003000167                      ESCOBAR                     JULIO   \n",
       "3  1003000282                    BLAKEMORE                     ROSIE   \n",
       "4  1003000407                      GIRARDI                     DAVID   \n",
       "\n",
       "  nppes_provider_mi nppes_credentials nppes_provider_gender nppes_entity_code  \\\n",
       "0               NaN              M.D.                     M                 I   \n",
       "1               NaN              M.D.                     M                 I   \n",
       "2                 E               DDS                     M                 I   \n",
       "3                 K               FNP                     F                 I   \n",
       "4                 J              D.O.                     M                 I   \n",
       "\n",
       "       nppes_provider_street1 nppes_provider_street2 nppes_provider_city  ...  \\\n",
       "0                900 SETON DR                    NaN          CUMBERLAND  ...   \n",
       "1  4126 N HOLLAND SYLVANIA RD              SUITE 220              TOLEDO  ...   \n",
       "2              5 PINE CONE RD                    NaN              DAYTON  ...   \n",
       "3  TENNESSEE PRISON FOR WOMEN     3881 STEWARTS LANE           NASHVILLE  ...   \n",
       "4             100 HOSPITAL RD                    NaN          BROOKVILLE  ...   \n",
       "\n",
       "   beneficiary_male_count  beneficiary_race_white_count  \\\n",
       "0                    80.0                         153.0   \n",
       "1                    88.0                         159.0   \n",
       "2                    12.0                           NaN   \n",
       "3                    11.0                           NaN   \n",
       "4                    64.0                           NaN   \n",
       "\n",
       "  beneficiary_race_black_count beneficiary_race_asian_pi_count  \\\n",
       "0                          NaN                             0.0   \n",
       "1                         54.0                             NaN   \n",
       "2                          0.0                             NaN   \n",
       "3                          NaN                             0.0   \n",
       "4                          NaN                             0.0   \n",
       "\n",
       "  beneficiary_race_hispanic_count beneficiary_race_nat_ind_count  \\\n",
       "0                             NaN                            0.0   \n",
       "1                             NaN                            0.0   \n",
       "2                             0.0                            0.0   \n",
       "3                             0.0                            0.0   \n",
       "4                             0.0                            0.0   \n",
       "\n",
       "  beneficiary_race_other_count  beneficiary_nondual_count  \\\n",
       "0                          NaN                      102.0   \n",
       "1                          NaN                      108.0   \n",
       "2                          0.0                        NaN   \n",
       "3                          0.0                        NaN   \n",
       "4                          NaN                      129.0   \n",
       "\n",
       "   beneficiary_dual_count  beneficiary_average_risk_score  \n",
       "0                    68.0                          2.1950  \n",
       "1                   117.0                          1.8032  \n",
       "2                     NaN                          1.0949  \n",
       "3                     NaN                          1.7014  \n",
       "4                    61.0                          1.9105  \n",
       "\n",
       "[5 rows x 84 columns]"
      ]
     },
     "execution_count": 11,
     "metadata": {},
     "output_type": "execute_result"
    }
   ],
   "source": [
    "NPI_16= './PartD_Prescriber_PUF_NPI_16.txt'\n",
    "df16 = pd.read_table(NPI_16,sep='\\t',)\n",
    "df16.head()"
   ]
  },
  {
   "cell_type": "code",
   "execution_count": 12,
   "metadata": {},
   "outputs": [
    {
     "data": {
      "text/html": [
       "<div>\n",
       "<style scoped>\n",
       "    .dataframe tbody tr th:only-of-type {\n",
       "        vertical-align: middle;\n",
       "    }\n",
       "\n",
       "    .dataframe tbody tr th {\n",
       "        vertical-align: top;\n",
       "    }\n",
       "\n",
       "    .dataframe thead th {\n",
       "        text-align: right;\n",
       "    }\n",
       "</style>\n",
       "<table border=\"1\" class=\"dataframe\">\n",
       "  <thead>\n",
       "    <tr style=\"text-align: right;\">\n",
       "      <th></th>\n",
       "      <th>npi</th>\n",
       "      <th>nppes_provider_last_org_name</th>\n",
       "      <th>nppes_provider_first_name</th>\n",
       "      <th>nppes_provider_mi</th>\n",
       "      <th>nppes_credentials</th>\n",
       "      <th>nppes_provider_gender</th>\n",
       "      <th>nppes_entity_code</th>\n",
       "      <th>nppes_provider_street1</th>\n",
       "      <th>nppes_provider_street2</th>\n",
       "      <th>nppes_provider_city</th>\n",
       "      <th>...</th>\n",
       "      <th>beneficiary_male_count</th>\n",
       "      <th>beneficiary_race_white_count</th>\n",
       "      <th>beneficiary_race_black_count</th>\n",
       "      <th>beneficiary_race_asian_pi_count</th>\n",
       "      <th>beneficiary_race_hispanic_count</th>\n",
       "      <th>beneficiary_race_nat_ind_count</th>\n",
       "      <th>beneficiary_race_other_count</th>\n",
       "      <th>beneficiary_nondual_count</th>\n",
       "      <th>beneficiary_dual_count</th>\n",
       "      <th>beneficiary_average_risk_score</th>\n",
       "    </tr>\n",
       "  </thead>\n",
       "  <tbody>\n",
       "    <tr>\n",
       "      <th>0</th>\n",
       "      <td>1003000126</td>\n",
       "      <td>ENKESHAFI</td>\n",
       "      <td>ARDALAN</td>\n",
       "      <td>NaN</td>\n",
       "      <td>M.D.</td>\n",
       "      <td>M</td>\n",
       "      <td>I</td>\n",
       "      <td>900 SETON DR</td>\n",
       "      <td>NaN</td>\n",
       "      <td>CUMBERLAND</td>\n",
       "      <td>...</td>\n",
       "      <td>92.0</td>\n",
       "      <td>220.0</td>\n",
       "      <td>14.0</td>\n",
       "      <td>0.0</td>\n",
       "      <td>0.0</td>\n",
       "      <td>0.0</td>\n",
       "      <td>0.0</td>\n",
       "      <td>143.0</td>\n",
       "      <td>91.0</td>\n",
       "      <td>2.1685</td>\n",
       "    </tr>\n",
       "    <tr>\n",
       "      <th>1</th>\n",
       "      <td>1003000142</td>\n",
       "      <td>KHALIL</td>\n",
       "      <td>RASHID</td>\n",
       "      <td>NaN</td>\n",
       "      <td>M.D.</td>\n",
       "      <td>M</td>\n",
       "      <td>I</td>\n",
       "      <td>4126 N HOLLAND SYLVANIA RD</td>\n",
       "      <td>SUITE 220</td>\n",
       "      <td>TOLEDO</td>\n",
       "      <td>...</td>\n",
       "      <td>92.0</td>\n",
       "      <td>195.0</td>\n",
       "      <td>58.0</td>\n",
       "      <td>NaN</td>\n",
       "      <td>NaN</td>\n",
       "      <td>0.0</td>\n",
       "      <td>NaN</td>\n",
       "      <td>143.0</td>\n",
       "      <td>133.0</td>\n",
       "      <td>1.8029</td>\n",
       "    </tr>\n",
       "    <tr>\n",
       "      <th>2</th>\n",
       "      <td>1003000167</td>\n",
       "      <td>ESCOBAR</td>\n",
       "      <td>JULIO</td>\n",
       "      <td>E</td>\n",
       "      <td>DDS</td>\n",
       "      <td>M</td>\n",
       "      <td>I</td>\n",
       "      <td>5 PINE CONE RD</td>\n",
       "      <td>NaN</td>\n",
       "      <td>DAYTON</td>\n",
       "      <td>...</td>\n",
       "      <td>17.0</td>\n",
       "      <td>NaN</td>\n",
       "      <td>0.0</td>\n",
       "      <td>0.0</td>\n",
       "      <td>NaN</td>\n",
       "      <td>0.0</td>\n",
       "      <td>0.0</td>\n",
       "      <td>NaN</td>\n",
       "      <td>NaN</td>\n",
       "      <td>1.0598</td>\n",
       "    </tr>\n",
       "    <tr>\n",
       "      <th>3</th>\n",
       "      <td>1003000175</td>\n",
       "      <td>REYES-VASQUEZ</td>\n",
       "      <td>BELINDA</td>\n",
       "      <td>NaN</td>\n",
       "      <td>D.D.S.</td>\n",
       "      <td>F</td>\n",
       "      <td>I</td>\n",
       "      <td>322 N AZUSA AVE STE 202</td>\n",
       "      <td>NaN</td>\n",
       "      <td>LA PUENTE</td>\n",
       "      <td>...</td>\n",
       "      <td>NaN</td>\n",
       "      <td>NaN</td>\n",
       "      <td>NaN</td>\n",
       "      <td>NaN</td>\n",
       "      <td>NaN</td>\n",
       "      <td>NaN</td>\n",
       "      <td>NaN</td>\n",
       "      <td>NaN</td>\n",
       "      <td>NaN</td>\n",
       "      <td>NaN</td>\n",
       "    </tr>\n",
       "    <tr>\n",
       "      <th>4</th>\n",
       "      <td>1003000282</td>\n",
       "      <td>BLAKEMORE</td>\n",
       "      <td>ROSIE</td>\n",
       "      <td>K</td>\n",
       "      <td>FNP</td>\n",
       "      <td>F</td>\n",
       "      <td>I</td>\n",
       "      <td>TENNESSEE PRISON FOR WOMEN</td>\n",
       "      <td>3881 STEWARTS LANE</td>\n",
       "      <td>NASHVILLE</td>\n",
       "      <td>...</td>\n",
       "      <td>NaN</td>\n",
       "      <td>NaN</td>\n",
       "      <td>NaN</td>\n",
       "      <td>0.0</td>\n",
       "      <td>NaN</td>\n",
       "      <td>0.0</td>\n",
       "      <td>0.0</td>\n",
       "      <td>NaN</td>\n",
       "      <td>NaN</td>\n",
       "      <td>4.5148</td>\n",
       "    </tr>\n",
       "  </tbody>\n",
       "</table>\n",
       "<p>5 rows × 84 columns</p>\n",
       "</div>"
      ],
      "text/plain": [
       "          npi nppes_provider_last_org_name nppes_provider_first_name  \\\n",
       "0  1003000126                    ENKESHAFI                   ARDALAN   \n",
       "1  1003000142                       KHALIL                    RASHID   \n",
       "2  1003000167                      ESCOBAR                     JULIO   \n",
       "3  1003000175                REYES-VASQUEZ                   BELINDA   \n",
       "4  1003000282                    BLAKEMORE                     ROSIE   \n",
       "\n",
       "  nppes_provider_mi nppes_credentials nppes_provider_gender nppes_entity_code  \\\n",
       "0               NaN              M.D.                     M                 I   \n",
       "1               NaN              M.D.                     M                 I   \n",
       "2                 E               DDS                     M                 I   \n",
       "3               NaN            D.D.S.                     F                 I   \n",
       "4                 K               FNP                     F                 I   \n",
       "\n",
       "       nppes_provider_street1 nppes_provider_street2 nppes_provider_city  ...  \\\n",
       "0                900 SETON DR                    NaN          CUMBERLAND  ...   \n",
       "1  4126 N HOLLAND SYLVANIA RD              SUITE 220              TOLEDO  ...   \n",
       "2              5 PINE CONE RD                    NaN              DAYTON  ...   \n",
       "3     322 N AZUSA AVE STE 202                    NaN           LA PUENTE  ...   \n",
       "4  TENNESSEE PRISON FOR WOMEN     3881 STEWARTS LANE           NASHVILLE  ...   \n",
       "\n",
       "   beneficiary_male_count  beneficiary_race_white_count  \\\n",
       "0                    92.0                         220.0   \n",
       "1                    92.0                         195.0   \n",
       "2                    17.0                           NaN   \n",
       "3                     NaN                           NaN   \n",
       "4                     NaN                           NaN   \n",
       "\n",
       "  beneficiary_race_black_count beneficiary_race_asian_pi_count  \\\n",
       "0                         14.0                             0.0   \n",
       "1                         58.0                             NaN   \n",
       "2                          0.0                             0.0   \n",
       "3                          NaN                             NaN   \n",
       "4                          NaN                             0.0   \n",
       "\n",
       "  beneficiary_race_hispanic_count beneficiary_race_nat_ind_count  \\\n",
       "0                             0.0                            0.0   \n",
       "1                             NaN                            0.0   \n",
       "2                             NaN                            0.0   \n",
       "3                             NaN                            NaN   \n",
       "4                             NaN                            0.0   \n",
       "\n",
       "  beneficiary_race_other_count  beneficiary_nondual_count  \\\n",
       "0                          0.0                      143.0   \n",
       "1                          NaN                      143.0   \n",
       "2                          0.0                        NaN   \n",
       "3                          NaN                        NaN   \n",
       "4                          0.0                        NaN   \n",
       "\n",
       "   beneficiary_dual_count  beneficiary_average_risk_score  \n",
       "0                    91.0                          2.1685  \n",
       "1                   133.0                          1.8029  \n",
       "2                     NaN                          1.0598  \n",
       "3                     NaN                             NaN  \n",
       "4                     NaN                          4.5148  \n",
       "\n",
       "[5 rows x 84 columns]"
      ]
     },
     "execution_count": 12,
     "metadata": {},
     "output_type": "execute_result"
    }
   ],
   "source": [
    "NPI_17 = './PartD_Prescriber_PUF_NPI_17.txt'\n",
    "df17 = pd.read_table(NPI_17,sep='\\t',)\n",
    "df17.head()"
   ]
  },
  {
   "cell_type": "code",
   "execution_count": 166,
   "metadata": {},
   "outputs": [],
   "source": [
    "d_npi = pd.DataFrame(df17['npi'].apply(lambda x: str(x)), columns=['npi'])"
   ]
  },
  {
   "cell_type": "code",
   "execution_count": 168,
   "metadata": {},
   "outputs": [
    {
     "data": {
      "text/html": [
       "<div>\n",
       "<style scoped>\n",
       "    .dataframe tbody tr th:only-of-type {\n",
       "        vertical-align: middle;\n",
       "    }\n",
       "\n",
       "    .dataframe tbody tr th {\n",
       "        vertical-align: top;\n",
       "    }\n",
       "\n",
       "    .dataframe thead th {\n",
       "        text-align: right;\n",
       "    }\n",
       "</style>\n",
       "<table border=\"1\" class=\"dataframe\">\n",
       "  <thead>\n",
       "    <tr style=\"text-align: right;\">\n",
       "      <th></th>\n",
       "      <th>npi</th>\n",
       "    </tr>\n",
       "  </thead>\n",
       "  <tbody>\n",
       "    <tr>\n",
       "      <th>count</th>\n",
       "      <td>1162898</td>\n",
       "    </tr>\n",
       "    <tr>\n",
       "      <th>unique</th>\n",
       "      <td>1162898</td>\n",
       "    </tr>\n",
       "    <tr>\n",
       "      <th>top</th>\n",
       "      <td>1760428528</td>\n",
       "    </tr>\n",
       "    <tr>\n",
       "      <th>freq</th>\n",
       "      <td>1</td>\n",
       "    </tr>\n",
       "  </tbody>\n",
       "</table>\n",
       "</div>"
      ],
      "text/plain": [
       "               npi\n",
       "count      1162898\n",
       "unique     1162898\n",
       "top     1760428528\n",
       "freq             1"
      ]
     },
     "execution_count": 168,
     "metadata": {},
     "output_type": "execute_result"
    }
   ],
   "source": [
    "d_npi.describe()"
   ]
  },
  {
   "cell_type": "markdown",
   "metadata": {},
   "source": [
    "## Investigate the Data"
   ]
  },
  {
   "cell_type": "code",
   "execution_count": 165,
   "metadata": {},
   "outputs": [
    {
     "data": {
      "text/html": [
       "<div>\n",
       "<style scoped>\n",
       "    .dataframe tbody tr th:only-of-type {\n",
       "        vertical-align: middle;\n",
       "    }\n",
       "\n",
       "    .dataframe tbody tr th {\n",
       "        vertical-align: top;\n",
       "    }\n",
       "\n",
       "    .dataframe thead th {\n",
       "        text-align: right;\n",
       "    }\n",
       "</style>\n",
       "<table border=\"1\" class=\"dataframe\">\n",
       "  <thead>\n",
       "    <tr style=\"text-align: right;\">\n",
       "      <th></th>\n",
       "      <th>nppes_provider_last_org_name</th>\n",
       "      <th>nppes_provider_first_name</th>\n",
       "    </tr>\n",
       "  </thead>\n",
       "  <tbody>\n",
       "    <tr>\n",
       "      <th>count</th>\n",
       "      <td>1162864</td>\n",
       "      <td>1162876</td>\n",
       "    </tr>\n",
       "    <tr>\n",
       "      <th>unique</th>\n",
       "      <td>262445</td>\n",
       "      <td>82704</td>\n",
       "    </tr>\n",
       "    <tr>\n",
       "      <th>top</th>\n",
       "      <td>SMITH</td>\n",
       "      <td>MICHAEL</td>\n",
       "    </tr>\n",
       "    <tr>\n",
       "      <th>freq</th>\n",
       "      <td>6284</td>\n",
       "      <td>22654</td>\n",
       "    </tr>\n",
       "  </tbody>\n",
       "</table>\n",
       "</div>"
      ],
      "text/plain": [
       "       nppes_provider_last_org_name nppes_provider_first_name\n",
       "count                       1162864                   1162876\n",
       "unique                       262445                     82704\n",
       "top                           SMITH                   MICHAEL\n",
       "freq                           6284                     22654"
      ]
     },
     "execution_count": 165,
     "metadata": {},
     "output_type": "execute_result"
    }
   ],
   "source": [
    "df17[['nppes_provider_last_org_name','nppes_provider_first_name']].describe()"
   ]
  },
  {
   "cell_type": "code",
   "execution_count": 13,
   "metadata": {},
   "outputs": [
    {
     "name": "stdout",
     "output_type": "stream",
     "text": [
      "(1131550, 84) (1162898, 84)\n"
     ]
    }
   ],
   "source": [
    "print(df16.shape, df17.shape)"
   ]
  },
  {
   "cell_type": "markdown",
   "metadata": {},
   "source": [
    "## Q1:  \n",
    "In 2017, what was the average number of beneficiaries per provider? Due to the suppression of data for those with few beneficiaries, we can only include those with more than 10 beneficiaries."
   ]
  },
  {
   "cell_type": "code",
   "execution_count": 20,
   "metadata": {},
   "outputs": [
    {
     "data": {
      "text/plain": [
       "0    234.0\n",
       "1    276.0\n",
       "2     33.0\n",
       "3      NaN\n",
       "4     11.0\n",
       "5    117.0\n",
       "Name: bene_count, dtype: float64"
      ]
     },
     "execution_count": 20,
     "metadata": {},
     "output_type": "execute_result"
    }
   ],
   "source": [
    "df17['bene_count'].head(6)"
   ]
  },
  {
   "cell_type": "code",
   "execution_count": 154,
   "metadata": {},
   "outputs": [],
   "source": [
    "ans1 = df17[ df17['bene_count']> 10 ]['bene_count'].mean()"
   ]
  },
  {
   "cell_type": "code",
   "execution_count": 155,
   "metadata": {},
   "outputs": [
    {
     "name": "stdout",
     "output_type": "stream",
     "text": [
      "158.3494585173676\n"
     ]
    }
   ],
   "source": [
    "print(ans1)"
   ]
  },
  {
   "cell_type": "markdown",
   "metadata": {},
   "source": [
    "## Q2:  \n",
    "Work out for each Specialty the fraction of drug claims that are for brand-name drugs. Include only providers for whom the relevant information has not been suppressed, and consider only specialties with at least 1000 total claims. What is the standard deviation of these fractions?"
   ]
  },
  {
   "cell_type": "code",
   "execution_count": 25,
   "metadata": {},
   "outputs": [],
   "source": [
    "col = ['brand_claim_count', 'total_claim_count']"
   ]
  },
  {
   "cell_type": "code",
   "execution_count": 62,
   "metadata": {},
   "outputs": [],
   "source": [
    "d_q = df17[(df17[col[0]].notnull()) & (df17[col[1]]>= 1000)][[col[0],col[1]]]"
   ]
  },
  {
   "cell_type": "code",
   "execution_count": 156,
   "metadata": {},
   "outputs": [
    {
     "name": "stdout",
     "output_type": "stream",
     "text": [
      "0.12172085262426646\n"
     ]
    }
   ],
   "source": [
    "ans2 = (d_q[col[0]]/d_q[col[1]]).std()\n",
    "print(ans2)"
   ]
  },
  {
   "cell_type": "code",
   "execution_count": null,
   "metadata": {},
   "outputs": [],
   "source": []
  },
  {
   "cell_type": "markdown",
   "metadata": {},
   "source": [
    "## Q3:\n",
    "Let's find which states have surprisingly high supply of opioids, conditioned on specialty. Work out the average length of an opioid prescription for each provider. For each (state, specialty) pair with at least 100 providers, calculate the average of this value across all providers. Then find the ratio of this value to an equivalent quantity calculated from providers in each specialty across all states. What is the largest such ratio?"
   ]
  },
  {
   "cell_type": "code",
   "execution_count": 68,
   "metadata": {},
   "outputs": [],
   "source": [
    "col3 = ['opioid_claim_count', 'nppes_provider_state']"
   ]
  },
  {
   "cell_type": "code",
   "execution_count": 71,
   "metadata": {},
   "outputs": [],
   "source": [
    "d_q3 = df17[[col3[0],col3[1]]]"
   ]
  },
  {
   "cell_type": "code",
   "execution_count": 140,
   "metadata": {},
   "outputs": [],
   "source": [
    "d_result = d_q3[d_q3[col3[0]]>=100][col3]"
   ]
  },
  {
   "cell_type": "code",
   "execution_count": 141,
   "metadata": {},
   "outputs": [],
   "source": [
    "d_q3_pair = d_result.groupby(col3[1]).mean()"
   ]
  },
  {
   "cell_type": "code",
   "execution_count": 105,
   "metadata": {},
   "outputs": [
    {
     "name": "stdout",
     "output_type": "stream",
     "text": [
      "    opioid_claim_count nppes_provider_state\n",
      "1               1040.0                   OH\n",
      "8                128.0                   FL\n",
      "9                168.0                   PA\n",
      "16               150.0                   KY\n",
      "23              1285.0                   CA\n",
      "                      opioid_claim_count\n",
      "nppes_provider_state                    \n",
      "AE                            253.000000\n",
      "AK                            318.496732\n",
      "AL                            660.948216\n",
      "AP                            262.000000\n",
      "AR                            541.656974\n"
     ]
    }
   ],
   "source": [
    "print(d_result.head())\n",
    "print(d_q3_pair.head())"
   ]
  },
  {
   "cell_type": "code",
   "execution_count": 142,
   "metadata": {},
   "outputs": [],
   "source": [
    "dd = dict(zip(d_q3_pair.index,  d_q3_pair['opioid_claim_count']))"
   ]
  },
  {
   "cell_type": "code",
   "execution_count": 143,
   "metadata": {},
   "outputs": [],
   "source": [
    "d_result['avr/count'] = d_result[col3[1]].apply(lambda x: dd[x]) / d_result[col3[0]]"
   ]
  },
  {
   "cell_type": "code",
   "execution_count": 144,
   "metadata": {},
   "outputs": [
    {
     "data": {
      "text/html": [
       "<div>\n",
       "<style scoped>\n",
       "    .dataframe tbody tr th:only-of-type {\n",
       "        vertical-align: middle;\n",
       "    }\n",
       "\n",
       "    .dataframe tbody tr th {\n",
       "        vertical-align: top;\n",
       "    }\n",
       "\n",
       "    .dataframe thead th {\n",
       "        text-align: right;\n",
       "    }\n",
       "</style>\n",
       "<table border=\"1\" class=\"dataframe\">\n",
       "  <thead>\n",
       "    <tr style=\"text-align: right;\">\n",
       "      <th></th>\n",
       "      <th>opioid_claim_count</th>\n",
       "      <th>nppes_provider_state</th>\n",
       "      <th>avr/count</th>\n",
       "    </tr>\n",
       "  </thead>\n",
       "  <tbody>\n",
       "    <tr>\n",
       "      <th>1162853</th>\n",
       "      <td>595.0</td>\n",
       "      <td>MI</td>\n",
       "      <td>0.705692</td>\n",
       "    </tr>\n",
       "    <tr>\n",
       "      <th>1162875</th>\n",
       "      <td>188.0</td>\n",
       "      <td>TX</td>\n",
       "      <td>2.373528</td>\n",
       "    </tr>\n",
       "    <tr>\n",
       "      <th>1162880</th>\n",
       "      <td>151.0</td>\n",
       "      <td>CA</td>\n",
       "      <td>2.389907</td>\n",
       "    </tr>\n",
       "    <tr>\n",
       "      <th>1162881</th>\n",
       "      <td>156.0</td>\n",
       "      <td>FL</td>\n",
       "      <td>3.260915</td>\n",
       "    </tr>\n",
       "    <tr>\n",
       "      <th>1162887</th>\n",
       "      <td>187.0</td>\n",
       "      <td>CA</td>\n",
       "      <td>1.929818</td>\n",
       "    </tr>\n",
       "  </tbody>\n",
       "</table>\n",
       "</div>"
      ],
      "text/plain": [
       "         opioid_claim_count nppes_provider_state  avr/count\n",
       "1162853               595.0                   MI   0.705692\n",
       "1162875               188.0                   TX   2.373528\n",
       "1162880               151.0                   CA   2.389907\n",
       "1162881               156.0                   FL   3.260915\n",
       "1162887               187.0                   CA   1.929818"
      ]
     },
     "execution_count": 144,
     "metadata": {},
     "output_type": "execute_result"
    }
   ],
   "source": [
    "d_result.tail()"
   ]
  },
  {
   "cell_type": "code",
   "execution_count": 148,
   "metadata": {},
   "outputs": [
    {
     "data": {
      "text/html": [
       "<div>\n",
       "<style scoped>\n",
       "    .dataframe tbody tr th:only-of-type {\n",
       "        vertical-align: middle;\n",
       "    }\n",
       "\n",
       "    .dataframe tbody tr th {\n",
       "        vertical-align: top;\n",
       "    }\n",
       "\n",
       "    .dataframe thead th {\n",
       "        text-align: right;\n",
       "    }\n",
       "</style>\n",
       "<table border=\"1\" class=\"dataframe\">\n",
       "  <thead>\n",
       "    <tr style=\"text-align: right;\">\n",
       "      <th></th>\n",
       "      <th>opioid_claim_count</th>\n",
       "      <th>nppes_provider_state</th>\n",
       "      <th>avr/count</th>\n",
       "    </tr>\n",
       "  </thead>\n",
       "  <tbody>\n",
       "    <tr>\n",
       "      <th>39491</th>\n",
       "      <td>100.0</td>\n",
       "      <td>AL</td>\n",
       "      <td>6.609482</td>\n",
       "    </tr>\n",
       "    <tr>\n",
       "      <th>102074</th>\n",
       "      <td>100.0</td>\n",
       "      <td>AL</td>\n",
       "      <td>6.609482</td>\n",
       "    </tr>\n",
       "    <tr>\n",
       "      <th>153824</th>\n",
       "      <td>100.0</td>\n",
       "      <td>AL</td>\n",
       "      <td>6.609482</td>\n",
       "    </tr>\n",
       "    <tr>\n",
       "      <th>264297</th>\n",
       "      <td>100.0</td>\n",
       "      <td>AL</td>\n",
       "      <td>6.609482</td>\n",
       "    </tr>\n",
       "    <tr>\n",
       "      <th>311430</th>\n",
       "      <td>100.0</td>\n",
       "      <td>AL</td>\n",
       "      <td>6.609482</td>\n",
       "    </tr>\n",
       "    <tr>\n",
       "      <th>535461</th>\n",
       "      <td>100.0</td>\n",
       "      <td>AL</td>\n",
       "      <td>6.609482</td>\n",
       "    </tr>\n",
       "    <tr>\n",
       "      <th>572883</th>\n",
       "      <td>100.0</td>\n",
       "      <td>AL</td>\n",
       "      <td>6.609482</td>\n",
       "    </tr>\n",
       "    <tr>\n",
       "      <th>866012</th>\n",
       "      <td>100.0</td>\n",
       "      <td>AL</td>\n",
       "      <td>6.609482</td>\n",
       "    </tr>\n",
       "    <tr>\n",
       "      <th>869697</th>\n",
       "      <td>100.0</td>\n",
       "      <td>AL</td>\n",
       "      <td>6.609482</td>\n",
       "    </tr>\n",
       "    <tr>\n",
       "      <th>888041</th>\n",
       "      <td>100.0</td>\n",
       "      <td>AL</td>\n",
       "      <td>6.609482</td>\n",
       "    </tr>\n",
       "    <tr>\n",
       "      <th>939790</th>\n",
       "      <td>100.0</td>\n",
       "      <td>AL</td>\n",
       "      <td>6.609482</td>\n",
       "    </tr>\n",
       "    <tr>\n",
       "      <th>1012556</th>\n",
       "      <td>100.0</td>\n",
       "      <td>AL</td>\n",
       "      <td>6.609482</td>\n",
       "    </tr>\n",
       "  </tbody>\n",
       "</table>\n",
       "</div>"
      ],
      "text/plain": [
       "         opioid_claim_count nppes_provider_state  avr/count\n",
       "39491                 100.0                   AL   6.609482\n",
       "102074                100.0                   AL   6.609482\n",
       "153824                100.0                   AL   6.609482\n",
       "264297                100.0                   AL   6.609482\n",
       "311430                100.0                   AL   6.609482\n",
       "535461                100.0                   AL   6.609482\n",
       "572883                100.0                   AL   6.609482\n",
       "866012                100.0                   AL   6.609482\n",
       "869697                100.0                   AL   6.609482\n",
       "888041                100.0                   AL   6.609482\n",
       "939790                100.0                   AL   6.609482\n",
       "1012556               100.0                   AL   6.609482"
      ]
     },
     "execution_count": 148,
     "metadata": {},
     "output_type": "execute_result"
    }
   ],
   "source": [
    "d_result[d_result['avr/count'] == d_result['avr/count'].max()]"
   ]
  },
  {
   "cell_type": "code",
   "execution_count": 157,
   "metadata": {},
   "outputs": [
    {
     "name": "stdout",
     "output_type": "stream",
     "text": [
      "6.609482155353394\n"
     ]
    }
   ],
   "source": [
    "ans3 = d_result['avr/count'].max()\n",
    "print(ans3)"
   ]
  },
  {
   "cell_type": "markdown",
   "metadata": {},
   "source": [
    "## Q4:\n",
    "For each provider, estimate the length of the average prescription from the total_day_supply and total_claim_count. What is the median, in days, of the distribution of this value across all providers?"
   ]
  },
  {
   "cell_type": "code",
   "execution_count": 269,
   "metadata": {},
   "outputs": [],
   "source": [
    "col4 = ['total_day_supply', 'total_claim_count']"
   ]
  },
  {
   "cell_type": "markdown",
   "metadata": {},
   "source": [
    "Number of Day’s Supply for All Claims, Number of Medicare Part D Claims"
   ]
  },
  {
   "cell_type": "code",
   "execution_count": 270,
   "metadata": {},
   "outputs": [
    {
     "data": {
      "text/html": [
       "<div>\n",
       "<style scoped>\n",
       "    .dataframe tbody tr th:only-of-type {\n",
       "        vertical-align: middle;\n",
       "    }\n",
       "\n",
       "    .dataframe tbody tr th {\n",
       "        vertical-align: top;\n",
       "    }\n",
       "\n",
       "    .dataframe thead th {\n",
       "        text-align: right;\n",
       "    }\n",
       "</style>\n",
       "<table border=\"1\" class=\"dataframe\">\n",
       "  <thead>\n",
       "    <tr style=\"text-align: right;\">\n",
       "      <th></th>\n",
       "      <th>total_day_supply</th>\n",
       "      <th>total_claim_count</th>\n",
       "      <th>avr</th>\n",
       "    </tr>\n",
       "  </thead>\n",
       "  <tbody>\n",
       "    <tr>\n",
       "      <th>0</th>\n",
       "      <td>14788</td>\n",
       "      <td>677</td>\n",
       "      <td>21.843427</td>\n",
       "    </tr>\n",
       "    <tr>\n",
       "      <th>1</th>\n",
       "      <td>58605</td>\n",
       "      <td>1946</td>\n",
       "      <td>30.115622</td>\n",
       "    </tr>\n",
       "    <tr>\n",
       "      <th>2</th>\n",
       "      <td>430</td>\n",
       "      <td>55</td>\n",
       "      <td>7.818182</td>\n",
       "    </tr>\n",
       "    <tr>\n",
       "      <th>3</th>\n",
       "      <td>150</td>\n",
       "      <td>18</td>\n",
       "      <td>8.333333</td>\n",
       "    </tr>\n",
       "    <tr>\n",
       "      <th>4</th>\n",
       "      <td>2681</td>\n",
       "      <td>90</td>\n",
       "      <td>29.788889</td>\n",
       "    </tr>\n",
       "  </tbody>\n",
       "</table>\n",
       "</div>"
      ],
      "text/plain": [
       "   total_day_supply  total_claim_count        avr\n",
       "0             14788                677  21.843427\n",
       "1             58605               1946  30.115622\n",
       "2               430                 55   7.818182\n",
       "3               150                 18   8.333333\n",
       "4              2681                 90  29.788889"
      ]
     },
     "execution_count": 270,
     "metadata": {},
     "output_type": "execute_result"
    }
   ],
   "source": [
    "d_q4 = df17[(df17[col4[0]]>10) & (df17[col4[1]]>10)][col4]\n",
    "d_q4['avr'] = d_q4[col4[0]] / d_q4[col4[1]]\n",
    "d_q4.head()"
   ]
  },
  {
   "cell_type": "code",
   "execution_count": 271,
   "metadata": {},
   "outputs": [
    {
     "data": {
      "text/html": [
       "<div>\n",
       "<style scoped>\n",
       "    .dataframe tbody tr th:only-of-type {\n",
       "        vertical-align: middle;\n",
       "    }\n",
       "\n",
       "    .dataframe tbody tr th {\n",
       "        vertical-align: top;\n",
       "    }\n",
       "\n",
       "    .dataframe thead th {\n",
       "        text-align: right;\n",
       "    }\n",
       "</style>\n",
       "<table border=\"1\" class=\"dataframe\">\n",
       "  <thead>\n",
       "    <tr style=\"text-align: right;\">\n",
       "      <th></th>\n",
       "      <th>total_day_supply</th>\n",
       "      <th>total_claim_count</th>\n",
       "      <th>avr</th>\n",
       "    </tr>\n",
       "  </thead>\n",
       "  <tbody>\n",
       "    <tr>\n",
       "      <th>672413</th>\n",
       "      <td>4962</td>\n",
       "      <td>167</td>\n",
       "      <td>29.712575</td>\n",
       "    </tr>\n",
       "    <tr>\n",
       "      <th>806975</th>\n",
       "      <td>4962</td>\n",
       "      <td>167</td>\n",
       "      <td>29.712575</td>\n",
       "    </tr>\n",
       "  </tbody>\n",
       "</table>\n",
       "</div>"
      ],
      "text/plain": [
       "        total_day_supply  total_claim_count        avr\n",
       "672413              4962                167  29.712575\n",
       "806975              4962                167  29.712575"
      ]
     },
     "execution_count": 271,
     "metadata": {},
     "output_type": "execute_result"
    }
   ],
   "source": [
    "d_ans4 = d_q4[d_q4['avr'] == d_q4['avr'].median()]\n",
    "d_ans4"
   ]
  },
  {
   "cell_type": "code",
   "execution_count": 272,
   "metadata": {},
   "outputs": [],
   "source": [
    "ans4 = list(d_ans4['total_day_supply'])[0]"
   ]
  },
  {
   "cell_type": "code",
   "execution_count": 273,
   "metadata": {},
   "outputs": [
    {
     "name": "stdout",
     "output_type": "stream",
     "text": [
      "4962\n"
     ]
    }
   ],
   "source": [
    "print(ans4)"
   ]
  },
  {
   "cell_type": "markdown",
   "metadata": {},
   "source": [
    "## Q5:\n",
    "Find the ratio of beneficiaries with opioid prescriptions to beneficiaries with antibiotics prescriptions in each state. Assume that each beneficiary attends only a single provider. What is the difference between the largest and smallest ratios?"
   ]
  },
  {
   "cell_type": "code",
   "execution_count": 196,
   "metadata": {},
   "outputs": [],
   "source": [
    "col5 = ['opioid_bene_count', 'antibiotic_bene_count', 'nppes_provider_state']"
   ]
  },
  {
   "cell_type": "code",
   "execution_count": 216,
   "metadata": {},
   "outputs": [
    {
     "data": {
      "text/html": [
       "<div>\n",
       "<style scoped>\n",
       "    .dataframe tbody tr th:only-of-type {\n",
       "        vertical-align: middle;\n",
       "    }\n",
       "\n",
       "    .dataframe tbody tr th {\n",
       "        vertical-align: top;\n",
       "    }\n",
       "\n",
       "    .dataframe thead th {\n",
       "        text-align: right;\n",
       "    }\n",
       "</style>\n",
       "<table border=\"1\" class=\"dataframe\">\n",
       "  <thead>\n",
       "    <tr style=\"text-align: right;\">\n",
       "      <th></th>\n",
       "      <th>opioid_bene_count</th>\n",
       "      <th>antibiotic_bene_count</th>\n",
       "    </tr>\n",
       "    <tr>\n",
       "      <th>nppes_provider_state</th>\n",
       "      <th></th>\n",
       "      <th></th>\n",
       "    </tr>\n",
       "  </thead>\n",
       "  <tbody>\n",
       "    <tr>\n",
       "      <th>AA</th>\n",
       "      <td>145.0</td>\n",
       "      <td>256.0</td>\n",
       "    </tr>\n",
       "    <tr>\n",
       "      <th>AE</th>\n",
       "      <td>879.0</td>\n",
       "      <td>1318.0</td>\n",
       "    </tr>\n",
       "    <tr>\n",
       "      <th>AK</th>\n",
       "      <td>12085.0</td>\n",
       "      <td>16566.0</td>\n",
       "    </tr>\n",
       "    <tr>\n",
       "      <th>AL</th>\n",
       "      <td>459780.0</td>\n",
       "      <td>585426.0</td>\n",
       "    </tr>\n",
       "    <tr>\n",
       "      <th>AP</th>\n",
       "      <td>653.0</td>\n",
       "      <td>1294.0</td>\n",
       "    </tr>\n",
       "  </tbody>\n",
       "</table>\n",
       "</div>"
      ],
      "text/plain": [
       "                      opioid_bene_count  antibiotic_bene_count\n",
       "nppes_provider_state                                          \n",
       "AA                                145.0                  256.0\n",
       "AE                                879.0                 1318.0\n",
       "AK                              12085.0                16566.0\n",
       "AL                             459780.0               585426.0\n",
       "AP                                653.0                 1294.0"
      ]
     },
     "execution_count": 216,
     "metadata": {},
     "output_type": "execute_result"
    }
   ],
   "source": [
    "d_q5 = df17[(df17['opioid_bene_count']>10) & (df17['antibiotic_bene_count']>10)][col5]\n",
    "d_sol = d_q5[col5].groupby([col5[-1]]).sum()\n",
    "d_sol.head()"
   ]
  },
  {
   "cell_type": "code",
   "execution_count": 217,
   "metadata": {},
   "outputs": [
    {
     "data": {
      "text/html": [
       "<div>\n",
       "<style scoped>\n",
       "    .dataframe tbody tr th:only-of-type {\n",
       "        vertical-align: middle;\n",
       "    }\n",
       "\n",
       "    .dataframe tbody tr th {\n",
       "        vertical-align: top;\n",
       "    }\n",
       "\n",
       "    .dataframe thead th {\n",
       "        text-align: right;\n",
       "    }\n",
       "</style>\n",
       "<table border=\"1\" class=\"dataframe\">\n",
       "  <thead>\n",
       "    <tr style=\"text-align: right;\">\n",
       "      <th></th>\n",
       "      <th>opioid_bene_count</th>\n",
       "      <th>antibiotic_bene_count</th>\n",
       "      <th>opioid/antibiotic</th>\n",
       "    </tr>\n",
       "    <tr>\n",
       "      <th>nppes_provider_state</th>\n",
       "      <th></th>\n",
       "      <th></th>\n",
       "      <th></th>\n",
       "    </tr>\n",
       "  </thead>\n",
       "  <tbody>\n",
       "    <tr>\n",
       "      <th>AA</th>\n",
       "      <td>145.0</td>\n",
       "      <td>256.0</td>\n",
       "      <td>0.566406</td>\n",
       "    </tr>\n",
       "    <tr>\n",
       "      <th>AE</th>\n",
       "      <td>879.0</td>\n",
       "      <td>1318.0</td>\n",
       "      <td>0.666920</td>\n",
       "    </tr>\n",
       "    <tr>\n",
       "      <th>AK</th>\n",
       "      <td>12085.0</td>\n",
       "      <td>16566.0</td>\n",
       "      <td>0.729506</td>\n",
       "    </tr>\n",
       "    <tr>\n",
       "      <th>AL</th>\n",
       "      <td>459780.0</td>\n",
       "      <td>585426.0</td>\n",
       "      <td>0.785377</td>\n",
       "    </tr>\n",
       "    <tr>\n",
       "      <th>AP</th>\n",
       "      <td>653.0</td>\n",
       "      <td>1294.0</td>\n",
       "      <td>0.504637</td>\n",
       "    </tr>\n",
       "  </tbody>\n",
       "</table>\n",
       "</div>"
      ],
      "text/plain": [
       "                      opioid_bene_count  antibiotic_bene_count  \\\n",
       "nppes_provider_state                                             \n",
       "AA                                145.0                  256.0   \n",
       "AE                                879.0                 1318.0   \n",
       "AK                              12085.0                16566.0   \n",
       "AL                             459780.0               585426.0   \n",
       "AP                                653.0                 1294.0   \n",
       "\n",
       "                      opioid/antibiotic  \n",
       "nppes_provider_state                     \n",
       "AA                             0.566406  \n",
       "AE                             0.666920  \n",
       "AK                             0.729506  \n",
       "AL                             0.785377  \n",
       "AP                             0.504637  "
      ]
     },
     "execution_count": 217,
     "metadata": {},
     "output_type": "execute_result"
    }
   ],
   "source": [
    "d_sol['opioid/antibiotic'] = d_sol[col5[0]] / d_sol[col5[1]]\n",
    "d_sol.head()"
   ]
  },
  {
   "cell_type": "code",
   "execution_count": 218,
   "metadata": {},
   "outputs": [
    {
     "name": "stdout",
     "output_type": "stream",
     "text": [
      "0.4784023572960003\n"
     ]
    }
   ],
   "source": [
    "ans5 = d_sol['opioid/antibiotic'].max() - d_sol['opioid/antibiotic'].min()\n",
    "print(ans5)"
   ]
  },
  {
   "cell_type": "markdown",
   "metadata": {},
   "source": [
    "## Q6\n",
    "For each provider where the relevant columns are not suppressed, work out the fraction of claims for beneficiaries age 65 and older, as well as the fraction of claims for beneficiaries with a low-income subsidy. What is the Pearson correlation coefficient between these values?"
   ]
  },
  {
   "cell_type": "code",
   "execution_count": 220,
   "metadata": {},
   "outputs": [],
   "source": [
    "col6 = ['total_claim_count_ge65', 'lis_claim_count', 'total_claim_count']"
   ]
  },
  {
   "cell_type": "code",
   "execution_count": 229,
   "metadata": {},
   "outputs": [
    {
     "data": {
      "text/html": [
       "<div>\n",
       "<style scoped>\n",
       "    .dataframe tbody tr th:only-of-type {\n",
       "        vertical-align: middle;\n",
       "    }\n",
       "\n",
       "    .dataframe tbody tr th {\n",
       "        vertical-align: top;\n",
       "    }\n",
       "\n",
       "    .dataframe thead th {\n",
       "        text-align: right;\n",
       "    }\n",
       "</style>\n",
       "<table border=\"1\" class=\"dataframe\">\n",
       "  <thead>\n",
       "    <tr style=\"text-align: right;\">\n",
       "      <th></th>\n",
       "      <th>total_claim_count_ge65</th>\n",
       "      <th>lis_claim_count</th>\n",
       "      <th>total_claim_count</th>\n",
       "    </tr>\n",
       "  </thead>\n",
       "  <tbody>\n",
       "    <tr>\n",
       "      <th>0</th>\n",
       "      <td>516.0</td>\n",
       "      <td>305.0</td>\n",
       "      <td>677</td>\n",
       "    </tr>\n",
       "    <tr>\n",
       "      <th>1</th>\n",
       "      <td>881.0</td>\n",
       "      <td>1184.0</td>\n",
       "      <td>1946</td>\n",
       "    </tr>\n",
       "    <tr>\n",
       "      <th>4</th>\n",
       "      <td>65.0</td>\n",
       "      <td>73.0</td>\n",
       "      <td>90</td>\n",
       "    </tr>\n",
       "    <tr>\n",
       "      <th>5</th>\n",
       "      <td>2700.0</td>\n",
       "      <td>1990.0</td>\n",
       "      <td>2788</td>\n",
       "    </tr>\n",
       "    <tr>\n",
       "      <th>6</th>\n",
       "      <td>118.0</td>\n",
       "      <td>70.0</td>\n",
       "      <td>200</td>\n",
       "    </tr>\n",
       "  </tbody>\n",
       "</table>\n",
       "</div>"
      ],
      "text/plain": [
       "   total_claim_count_ge65  lis_claim_count  total_claim_count\n",
       "0                   516.0            305.0                677\n",
       "1                   881.0           1184.0               1946\n",
       "4                    65.0             73.0                 90\n",
       "5                  2700.0           1990.0               2788\n",
       "6                   118.0             70.0                200"
      ]
     },
     "execution_count": 229,
     "metadata": {},
     "output_type": "execute_result"
    }
   ],
   "source": [
    "d_q6 = df17[(df17[col6[0]]>10) & (df17[col6[1]]>10) & (df17[col6[2]]>10)][col6]\n",
    "d_q6.head()"
   ]
  },
  {
   "cell_type": "code",
   "execution_count": 230,
   "metadata": {},
   "outputs": [
    {
     "data": {
      "text/html": [
       "<div>\n",
       "<style scoped>\n",
       "    .dataframe tbody tr th:only-of-type {\n",
       "        vertical-align: middle;\n",
       "    }\n",
       "\n",
       "    .dataframe tbody tr th {\n",
       "        vertical-align: top;\n",
       "    }\n",
       "\n",
       "    .dataframe thead th {\n",
       "        text-align: right;\n",
       "    }\n",
       "</style>\n",
       "<table border=\"1\" class=\"dataframe\">\n",
       "  <thead>\n",
       "    <tr style=\"text-align: right;\">\n",
       "      <th></th>\n",
       "      <th>total_claim_count_ge65</th>\n",
       "      <th>lis_claim_count</th>\n",
       "      <th>total_claim_count</th>\n",
       "      <th>ge65_total_claim</th>\n",
       "      <th>lis_claim_total_claim</th>\n",
       "    </tr>\n",
       "  </thead>\n",
       "  <tbody>\n",
       "    <tr>\n",
       "      <th>0</th>\n",
       "      <td>516.0</td>\n",
       "      <td>305.0</td>\n",
       "      <td>677</td>\n",
       "      <td>0.762186</td>\n",
       "      <td>0.450517</td>\n",
       "    </tr>\n",
       "    <tr>\n",
       "      <th>1</th>\n",
       "      <td>881.0</td>\n",
       "      <td>1184.0</td>\n",
       "      <td>1946</td>\n",
       "      <td>0.452724</td>\n",
       "      <td>0.608428</td>\n",
       "    </tr>\n",
       "    <tr>\n",
       "      <th>4</th>\n",
       "      <td>65.0</td>\n",
       "      <td>73.0</td>\n",
       "      <td>90</td>\n",
       "      <td>0.722222</td>\n",
       "      <td>0.811111</td>\n",
       "    </tr>\n",
       "    <tr>\n",
       "      <th>5</th>\n",
       "      <td>2700.0</td>\n",
       "      <td>1990.0</td>\n",
       "      <td>2788</td>\n",
       "      <td>0.968436</td>\n",
       "      <td>0.713773</td>\n",
       "    </tr>\n",
       "    <tr>\n",
       "      <th>6</th>\n",
       "      <td>118.0</td>\n",
       "      <td>70.0</td>\n",
       "      <td>200</td>\n",
       "      <td>0.590000</td>\n",
       "      <td>0.350000</td>\n",
       "    </tr>\n",
       "  </tbody>\n",
       "</table>\n",
       "</div>"
      ],
      "text/plain": [
       "   total_claim_count_ge65  lis_claim_count  total_claim_count  \\\n",
       "0                   516.0            305.0                677   \n",
       "1                   881.0           1184.0               1946   \n",
       "4                    65.0             73.0                 90   \n",
       "5                  2700.0           1990.0               2788   \n",
       "6                   118.0             70.0                200   \n",
       "\n",
       "   ge65_total_claim  lis_claim_total_claim  \n",
       "0          0.762186               0.450517  \n",
       "1          0.452724               0.608428  \n",
       "4          0.722222               0.811111  \n",
       "5          0.968436               0.713773  \n",
       "6          0.590000               0.350000  "
      ]
     },
     "execution_count": 230,
     "metadata": {},
     "output_type": "execute_result"
    }
   ],
   "source": [
    "d_q6['ge65_total_claim'] = d_q6[col6[0]] / d_q6[col6[2]]\n",
    "d_q6['lis_claim_total_claim'] = d_q6[col6[1]] / d_q6[col6[2]]\n",
    "d_q6.head()"
   ]
  },
  {
   "cell_type": "code",
   "execution_count": 236,
   "metadata": {},
   "outputs": [
    {
     "name": "stdout",
     "output_type": "stream",
     "text": [
      "-0.5838485231117352\n"
     ]
    }
   ],
   "source": [
    "ans6 = d_q6[['ge65_total_claim','lis_claim_total_claim']].corr(method='pearson')\n",
    "ans6 = list(ans6['ge65_total_claim'])[-1]\n",
    "print(ans6)"
   ]
  },
  {
   "cell_type": "markdown",
   "metadata": {},
   "source": [
    "## Q7:\n",
    "For each provider for whom the information is not suppressed, figure out the average cost per day of prescriptions in both 2016 and 2017. Use this to estimate the inflation rate for daily prescription costs per provider. What is the average inflation rate across all providers?"
   ]
  },
  {
   "cell_type": "code",
   "execution_count": 259,
   "metadata": {},
   "outputs": [],
   "source": [
    "col7 = ['npi', 'total_drug_cost', 'total_day_supply']"
   ]
  },
  {
   "cell_type": "code",
   "execution_count": 261,
   "metadata": {},
   "outputs": [
    {
     "data": {
      "text/html": [
       "<div>\n",
       "<style scoped>\n",
       "    .dataframe tbody tr th:only-of-type {\n",
       "        vertical-align: middle;\n",
       "    }\n",
       "\n",
       "    .dataframe tbody tr th {\n",
       "        vertical-align: top;\n",
       "    }\n",
       "\n",
       "    .dataframe thead th {\n",
       "        text-align: right;\n",
       "    }\n",
       "</style>\n",
       "<table border=\"1\" class=\"dataframe\">\n",
       "  <thead>\n",
       "    <tr style=\"text-align: right;\">\n",
       "      <th></th>\n",
       "      <th>npi</th>\n",
       "      <th>total_drug_cost</th>\n",
       "      <th>total_day_supply</th>\n",
       "      <th>avr_per_day</th>\n",
       "    </tr>\n",
       "  </thead>\n",
       "  <tbody>\n",
       "    <tr>\n",
       "      <th>0</th>\n",
       "      <td>1003000126</td>\n",
       "      <td>33618.18</td>\n",
       "      <td>12120</td>\n",
       "      <td>2.773777</td>\n",
       "    </tr>\n",
       "    <tr>\n",
       "      <th>1</th>\n",
       "      <td>1003000142</td>\n",
       "      <td>139695.81</td>\n",
       "      <td>51314</td>\n",
       "      <td>2.722372</td>\n",
       "    </tr>\n",
       "    <tr>\n",
       "      <th>2</th>\n",
       "      <td>1003000167</td>\n",
       "      <td>267.81</td>\n",
       "      <td>509</td>\n",
       "      <td>0.526149</td>\n",
       "    </tr>\n",
       "    <tr>\n",
       "      <th>3</th>\n",
       "      <td>1003000282</td>\n",
       "      <td>4587.11</td>\n",
       "      <td>5939</td>\n",
       "      <td>0.772371</td>\n",
       "    </tr>\n",
       "    <tr>\n",
       "      <th>4</th>\n",
       "      <td>1003000407</td>\n",
       "      <td>112183.11</td>\n",
       "      <td>45674</td>\n",
       "      <td>2.456170</td>\n",
       "    </tr>\n",
       "  </tbody>\n",
       "</table>\n",
       "</div>"
      ],
      "text/plain": [
       "          npi  total_drug_cost  total_day_supply  avr_per_day\n",
       "0  1003000126         33618.18             12120     2.773777\n",
       "1  1003000142        139695.81             51314     2.722372\n",
       "2  1003000167           267.81               509     0.526149\n",
       "3  1003000282          4587.11              5939     0.772371\n",
       "4  1003000407        112183.11             45674     2.456170"
      ]
     },
     "execution_count": 261,
     "metadata": {},
     "output_type": "execute_result"
    }
   ],
   "source": [
    "d_q7_6 = df16[(df16[col7[1]]>10) & (df16[col7[2]]>10) & (df16[col7[0]].notnull())][col7]\n",
    "d_q7_6['avr_per_day'] = df16[col7[1]]/df16[col7[2]]\n",
    "d_q7_6.head()"
   ]
  },
  {
   "cell_type": "code",
   "execution_count": 263,
   "metadata": {},
   "outputs": [
    {
     "data": {
      "text/html": [
       "<div>\n",
       "<style scoped>\n",
       "    .dataframe tbody tr th:only-of-type {\n",
       "        vertical-align: middle;\n",
       "    }\n",
       "\n",
       "    .dataframe tbody tr th {\n",
       "        vertical-align: top;\n",
       "    }\n",
       "\n",
       "    .dataframe thead th {\n",
       "        text-align: right;\n",
       "    }\n",
       "</style>\n",
       "<table border=\"1\" class=\"dataframe\">\n",
       "  <thead>\n",
       "    <tr style=\"text-align: right;\">\n",
       "      <th></th>\n",
       "      <th>npi</th>\n",
       "      <th>total_drug_cost</th>\n",
       "      <th>total_day_supply</th>\n",
       "      <th>avr_per_day</th>\n",
       "    </tr>\n",
       "  </thead>\n",
       "  <tbody>\n",
       "    <tr>\n",
       "      <th>0</th>\n",
       "      <td>1003000126</td>\n",
       "      <td>32639.57</td>\n",
       "      <td>14788</td>\n",
       "      <td>2.207166</td>\n",
       "    </tr>\n",
       "    <tr>\n",
       "      <th>1</th>\n",
       "      <td>1003000142</td>\n",
       "      <td>140189.01</td>\n",
       "      <td>58605</td>\n",
       "      <td>2.392100</td>\n",
       "    </tr>\n",
       "    <tr>\n",
       "      <th>2</th>\n",
       "      <td>1003000167</td>\n",
       "      <td>302.01</td>\n",
       "      <td>430</td>\n",
       "      <td>0.702349</td>\n",
       "    </tr>\n",
       "    <tr>\n",
       "      <th>3</th>\n",
       "      <td>1003000175</td>\n",
       "      <td>113.81</td>\n",
       "      <td>150</td>\n",
       "      <td>0.758733</td>\n",
       "    </tr>\n",
       "    <tr>\n",
       "      <th>4</th>\n",
       "      <td>1003000282</td>\n",
       "      <td>7561.21</td>\n",
       "      <td>2681</td>\n",
       "      <td>2.820295</td>\n",
       "    </tr>\n",
       "  </tbody>\n",
       "</table>\n",
       "</div>"
      ],
      "text/plain": [
       "          npi  total_drug_cost  total_day_supply  avr_per_day\n",
       "0  1003000126         32639.57             14788     2.207166\n",
       "1  1003000142        140189.01             58605     2.392100\n",
       "2  1003000167           302.01               430     0.702349\n",
       "3  1003000175           113.81               150     0.758733\n",
       "4  1003000282          7561.21              2681     2.820295"
      ]
     },
     "execution_count": 263,
     "metadata": {},
     "output_type": "execute_result"
    }
   ],
   "source": [
    "d_q7_7 = df17[(df17[col7[1]]>10) & (df17[col7[2]]>10) & (df17[col7[0]].notnull())][col7]\n",
    "d_q7_7['avr_per_day'] = df17[col7[1]]/df17[col7[2]]\n",
    "d_q7_7.head()"
   ]
  },
  {
   "cell_type": "code",
   "execution_count": 264,
   "metadata": {},
   "outputs": [
    {
     "name": "stdout",
     "output_type": "stream",
     "text": [
      "(1131541, 4) (1162881, 4)\n"
     ]
    }
   ],
   "source": [
    "print(d_q7_6.shape,d_q7_7.shape)"
   ]
  },
  {
   "cell_type": "code",
   "execution_count": 265,
   "metadata": {},
   "outputs": [
    {
     "data": {
      "text/html": [
       "<div>\n",
       "<style scoped>\n",
       "    .dataframe tbody tr th:only-of-type {\n",
       "        vertical-align: middle;\n",
       "    }\n",
       "\n",
       "    .dataframe tbody tr th {\n",
       "        vertical-align: top;\n",
       "    }\n",
       "\n",
       "    .dataframe thead th {\n",
       "        text-align: right;\n",
       "    }\n",
       "</style>\n",
       "<table border=\"1\" class=\"dataframe\">\n",
       "  <thead>\n",
       "    <tr style=\"text-align: right;\">\n",
       "      <th></th>\n",
       "      <th>npi</th>\n",
       "      <th>total_drug_cost_x</th>\n",
       "      <th>total_day_supply_x</th>\n",
       "      <th>avr_per_day_x</th>\n",
       "      <th>total_drug_cost_y</th>\n",
       "      <th>total_day_supply_y</th>\n",
       "      <th>avr_per_day_y</th>\n",
       "    </tr>\n",
       "  </thead>\n",
       "  <tbody>\n",
       "    <tr>\n",
       "      <th>0</th>\n",
       "      <td>1003000126</td>\n",
       "      <td>33618.18</td>\n",
       "      <td>12120</td>\n",
       "      <td>2.773777</td>\n",
       "      <td>32639.57</td>\n",
       "      <td>14788</td>\n",
       "      <td>2.207166</td>\n",
       "    </tr>\n",
       "    <tr>\n",
       "      <th>1</th>\n",
       "      <td>1003000142</td>\n",
       "      <td>139695.81</td>\n",
       "      <td>51314</td>\n",
       "      <td>2.722372</td>\n",
       "      <td>140189.01</td>\n",
       "      <td>58605</td>\n",
       "      <td>2.392100</td>\n",
       "    </tr>\n",
       "    <tr>\n",
       "      <th>2</th>\n",
       "      <td>1003000167</td>\n",
       "      <td>267.81</td>\n",
       "      <td>509</td>\n",
       "      <td>0.526149</td>\n",
       "      <td>302.01</td>\n",
       "      <td>430</td>\n",
       "      <td>0.702349</td>\n",
       "    </tr>\n",
       "    <tr>\n",
       "      <th>3</th>\n",
       "      <td>1003000282</td>\n",
       "      <td>4587.11</td>\n",
       "      <td>5939</td>\n",
       "      <td>0.772371</td>\n",
       "      <td>7561.21</td>\n",
       "      <td>2681</td>\n",
       "      <td>2.820295</td>\n",
       "    </tr>\n",
       "    <tr>\n",
       "      <th>4</th>\n",
       "      <td>1003000407</td>\n",
       "      <td>112183.11</td>\n",
       "      <td>45674</td>\n",
       "      <td>2.456170</td>\n",
       "      <td>108601.73</td>\n",
       "      <td>50677</td>\n",
       "      <td>2.143018</td>\n",
       "    </tr>\n",
       "  </tbody>\n",
       "</table>\n",
       "</div>"
      ],
      "text/plain": [
       "          npi  total_drug_cost_x  total_day_supply_x  avr_per_day_x  \\\n",
       "0  1003000126           33618.18               12120       2.773777   \n",
       "1  1003000142          139695.81               51314       2.722372   \n",
       "2  1003000167             267.81                 509       0.526149   \n",
       "3  1003000282            4587.11                5939       0.772371   \n",
       "4  1003000407          112183.11               45674       2.456170   \n",
       "\n",
       "   total_drug_cost_y  total_day_supply_y  avr_per_day_y  \n",
       "0           32639.57               14788       2.207166  \n",
       "1          140189.01               58605       2.392100  \n",
       "2             302.01                 430       0.702349  \n",
       "3            7561.21                2681       2.820295  \n",
       "4          108601.73               50677       2.143018  "
      ]
     },
     "execution_count": 265,
     "metadata": {},
     "output_type": "execute_result"
    }
   ],
   "source": [
    "result = pd.merge(d_q7_6, d_q7_7, how='inner', on='npi')\n",
    "result.head()"
   ]
  },
  {
   "cell_type": "code",
   "execution_count": 267,
   "metadata": {},
   "outputs": [
    {
     "data": {
      "text/plain": [
       "(1054552, 7)"
      ]
     },
     "execution_count": 267,
     "metadata": {},
     "output_type": "execute_result"
    }
   ],
   "source": [
    "result.shape"
   ]
  },
  {
   "cell_type": "code",
   "execution_count": 280,
   "metadata": {},
   "outputs": [
    {
     "data": {
      "text/html": [
       "<div>\n",
       "<style scoped>\n",
       "    .dataframe tbody tr th:only-of-type {\n",
       "        vertical-align: middle;\n",
       "    }\n",
       "\n",
       "    .dataframe tbody tr th {\n",
       "        vertical-align: top;\n",
       "    }\n",
       "\n",
       "    .dataframe thead th {\n",
       "        text-align: right;\n",
       "    }\n",
       "</style>\n",
       "<table border=\"1\" class=\"dataframe\">\n",
       "  <thead>\n",
       "    <tr style=\"text-align: right;\">\n",
       "      <th></th>\n",
       "      <th>npi</th>\n",
       "      <th>total_drug_cost_x</th>\n",
       "      <th>total_day_supply_x</th>\n",
       "      <th>avr_per_day_x</th>\n",
       "      <th>total_drug_cost_y</th>\n",
       "      <th>total_day_supply_y</th>\n",
       "      <th>avr_per_day_y</th>\n",
       "      <th>rate</th>\n",
       "    </tr>\n",
       "  </thead>\n",
       "  <tbody>\n",
       "    <tr>\n",
       "      <th>0</th>\n",
       "      <td>1003000126</td>\n",
       "      <td>33618.18</td>\n",
       "      <td>12120</td>\n",
       "      <td>2.773777</td>\n",
       "      <td>32639.57</td>\n",
       "      <td>14788</td>\n",
       "      <td>2.207166</td>\n",
       "      <td>-20.427426</td>\n",
       "    </tr>\n",
       "    <tr>\n",
       "      <th>1</th>\n",
       "      <td>1003000142</td>\n",
       "      <td>139695.81</td>\n",
       "      <td>51314</td>\n",
       "      <td>2.722372</td>\n",
       "      <td>140189.01</td>\n",
       "      <td>58605</td>\n",
       "      <td>2.392100</td>\n",
       "      <td>-12.131788</td>\n",
       "    </tr>\n",
       "    <tr>\n",
       "      <th>2</th>\n",
       "      <td>1003000167</td>\n",
       "      <td>267.81</td>\n",
       "      <td>509</td>\n",
       "      <td>0.526149</td>\n",
       "      <td>302.01</td>\n",
       "      <td>430</td>\n",
       "      <td>0.702349</td>\n",
       "      <td>33.488502</td>\n",
       "    </tr>\n",
       "    <tr>\n",
       "      <th>3</th>\n",
       "      <td>1003000282</td>\n",
       "      <td>4587.11</td>\n",
       "      <td>5939</td>\n",
       "      <td>0.772371</td>\n",
       "      <td>7561.21</td>\n",
       "      <td>2681</td>\n",
       "      <td>2.820295</td>\n",
       "      <td>265.147773</td>\n",
       "    </tr>\n",
       "    <tr>\n",
       "      <th>4</th>\n",
       "      <td>1003000407</td>\n",
       "      <td>112183.11</td>\n",
       "      <td>45674</td>\n",
       "      <td>2.456170</td>\n",
       "      <td>108601.73</td>\n",
       "      <td>50677</td>\n",
       "      <td>2.143018</td>\n",
       "      <td>-12.749602</td>\n",
       "    </tr>\n",
       "  </tbody>\n",
       "</table>\n",
       "</div>"
      ],
      "text/plain": [
       "          npi  total_drug_cost_x  total_day_supply_x  avr_per_day_x  \\\n",
       "0  1003000126           33618.18               12120       2.773777   \n",
       "1  1003000142          139695.81               51314       2.722372   \n",
       "2  1003000167             267.81                 509       0.526149   \n",
       "3  1003000282            4587.11                5939       0.772371   \n",
       "4  1003000407          112183.11               45674       2.456170   \n",
       "\n",
       "   total_drug_cost_y  total_day_supply_y  avr_per_day_y        rate  \n",
       "0           32639.57               14788       2.207166  -20.427426  \n",
       "1          140189.01               58605       2.392100  -12.131788  \n",
       "2             302.01                 430       0.702349   33.488502  \n",
       "3            7561.21                2681       2.820295  265.147773  \n",
       "4          108601.73               50677       2.143018  -12.749602  "
      ]
     },
     "execution_count": 280,
     "metadata": {},
     "output_type": "execute_result"
    }
   ],
   "source": [
    "result['rate'] = ((result['avr_per_day_y']-result['avr_per_day_x'])/result['avr_per_day_x'])*100\n",
    "result.head()"
   ]
  },
  {
   "cell_type": "code",
   "execution_count": 281,
   "metadata": {},
   "outputs": [
    {
     "name": "stdout",
     "output_type": "stream",
     "text": [
      "22.74759840983179\n"
     ]
    }
   ],
   "source": [
    "ans7 = result['rate'].mean()\n",
    "print(ans7)"
   ]
  },
  {
   "cell_type": "markdown",
   "metadata": {},
   "source": [
    "## Q8:\n",
    "Consider all providers with a defined specialty in both years. Find the fraction of providers who left each specialty between 2016 and 2017. What is the largest such fraction, when considering specialties with at least 1000 proviers in 2016? Note that some specialties have a fraction of 1 due to specialty name changes between 2016 and 2017; disregard these specialties in calculating your answer."
   ]
  },
  {
   "cell_type": "code",
   "execution_count": 302,
   "metadata": {},
   "outputs": [],
   "source": [
    "col8 = ['npi', 'specialty_description']\n",
    "d_q8_6= df16[(df16[col8[0]].notnull()) & (df16[col8[1]].notnull())][col8]\n",
    "d_q8_6 = d_q8_6[col8].groupby(col8[1],as_index=False).count()"
   ]
  },
  {
   "cell_type": "code",
   "execution_count": 303,
   "metadata": {},
   "outputs": [],
   "source": [
    "col8 = ['npi', 'specialty_description']\n",
    "d_q8_7= df17[(df17[col8[0]].notnull()) & (df17[col8[1]].notnull())][col8]\n",
    "d_q8_7 = d_q8_7[col8].groupby(col8[1],as_index=False).count()"
   ]
  },
  {
   "cell_type": "code",
   "execution_count": 309,
   "metadata": {},
   "outputs": [
    {
     "data": {
      "text/html": [
       "<div>\n",
       "<style scoped>\n",
       "    .dataframe tbody tr th:only-of-type {\n",
       "        vertical-align: middle;\n",
       "    }\n",
       "\n",
       "    .dataframe tbody tr th {\n",
       "        vertical-align: top;\n",
       "    }\n",
       "\n",
       "    .dataframe thead th {\n",
       "        text-align: right;\n",
       "    }\n",
       "</style>\n",
       "<table border=\"1\" class=\"dataframe\">\n",
       "  <thead>\n",
       "    <tr style=\"text-align: right;\">\n",
       "      <th></th>\n",
       "      <th>specialty_description</th>\n",
       "      <th>npi_x</th>\n",
       "      <th>npi_y</th>\n",
       "      <th>frac_left</th>\n",
       "    </tr>\n",
       "  </thead>\n",
       "  <tbody>\n",
       "    <tr>\n",
       "      <th>3</th>\n",
       "      <td>Allergy/ Immunology</td>\n",
       "      <td>3600</td>\n",
       "      <td>4026</td>\n",
       "      <td>-0.118333</td>\n",
       "    </tr>\n",
       "    <tr>\n",
       "      <th>5</th>\n",
       "      <td>Anesthesiology</td>\n",
       "      <td>7180</td>\n",
       "      <td>7057</td>\n",
       "      <td>0.017131</td>\n",
       "    </tr>\n",
       "    <tr>\n",
       "      <th>9</th>\n",
       "      <td>Cardiac Surgery</td>\n",
       "      <td>1182</td>\n",
       "      <td>1096</td>\n",
       "      <td>0.072758</td>\n",
       "    </tr>\n",
       "    <tr>\n",
       "      <th>12</th>\n",
       "      <td>Certified Clinical Nurse Specialist</td>\n",
       "      <td>2710</td>\n",
       "      <td>2652</td>\n",
       "      <td>0.021402</td>\n",
       "    </tr>\n",
       "    <tr>\n",
       "      <th>13</th>\n",
       "      <td>Certified Nurse Midwife</td>\n",
       "      <td>2385</td>\n",
       "      <td>2457</td>\n",
       "      <td>-0.030189</td>\n",
       "    </tr>\n",
       "  </tbody>\n",
       "</table>\n",
       "</div>"
      ],
      "text/plain": [
       "                  specialty_description  npi_x  npi_y  frac_left\n",
       "3                   Allergy/ Immunology   3600   4026  -0.118333\n",
       "5                        Anesthesiology   7180   7057   0.017131\n",
       "9                       Cardiac Surgery   1182   1096   0.072758\n",
       "12  Certified Clinical Nurse Specialist   2710   2652   0.021402\n",
       "13              Certified Nurse Midwife   2385   2457  -0.030189"
      ]
     },
     "execution_count": 309,
     "metadata": {},
     "output_type": "execute_result"
    }
   ],
   "source": [
    "result = pd.merge(d_q8_6, d_q8_7, how='inner', on='specialty_description')\n",
    "result['frac_left'] = (result['npi_x']-result['npi_y'])/result['npi_x']\n",
    "result = result[result['npi_x']>=1000]\n",
    "result.head()"
   ]
  },
  {
   "cell_type": "code",
   "execution_count": 314,
   "metadata": {},
   "outputs": [
    {
     "name": "stdout",
     "output_type": "stream",
     "text": [
      "0.10131332082551595\n"
     ]
    }
   ],
   "source": [
    "ans8 = result['frac_left'].max()\n",
    "print(ans8)"
   ]
  },
  {
   "cell_type": "markdown",
   "metadata": {},
   "source": [
    "## Q9:\n",
    "Please provide the script used to compute your response (max 10000 characters)"
   ]
  },
  {
   "cell_type": "code",
   "execution_count": 10,
   "metadata": {},
   "outputs": [
    {
     "name": "stdout",
     "output_type": "stream",
     "text": [
      "Q1: 158.3494585173676 \n",
      "\n",
      "Q2: 0.12172085262426646\n",
      "\n",
      "Q3: 6.609482155353394\n",
      "\n",
      "Q4: 4962\n",
      "\n",
      "Q5: 0.4784023572960003\n",
      "\n",
      "Q6: -0.5838485231117352\n",
      "\n",
      "Q7: 22.74759840983179\n",
      "\n",
      "Q8: 0.10131332082551595\n",
      "\n"
     ]
    }
   ],
   "source": [
    "#Imports\n",
    "import pandas as pd\n",
    "from shutil import unpack_archive\n",
    "\"\"\"\n",
    "#Extract Data\n",
    "unpack_archive('PartD_Prescriber_PUF_NPI_17.zip', './')\n",
    "unpack_archive('PartD_Prescriber_PUF_NPI_16.zip', './')\n",
    "\n",
    "#Examine Data\n",
    "NPI_16= './PartD_Prescriber_PUF_NPI_16.txt'\n",
    "NPI_17 = './PartD_Prescriber_PUF_NPI_17.txt'\n",
    "df16 = pd.read_table(NPI_16,sep='\\t',)\n",
    "df17 = pd.read_table(NPI_17,sep='\\t',)\n",
    "print(df16.head())\n",
    "print(df17.head())\n",
    "print(df16[['nppes_provider_last_org_name','nppes_provider_first_name']].describe())\n",
    "print(df17[['nppes_provider_last_org_name','nppes_provider_first_name']].describe())\n",
    "print(df16.shape, df17.shape)\"\"\"\n",
    "\n",
    "#Q1:\n",
    "ans = df17[ df17['bene_count']> 10 ]['bene_count'].mean()\n",
    "print('Q1: {} \\n'.format(ans1))\n",
    "\n",
    "#Q2:\n",
    "col = ['brand_claim_count', 'total_claim_count']\n",
    "d_q = df17[(df17[col[0]].notnull()) & (df17[col[1]]>= 1000)][[col[0],col[1]]]\n",
    "ans2 = (d_q[col[0]]/d_q[col[1]]).std()\n",
    "print('Q2: {}\\n'.format(ans2))\n",
    "\n",
    "#Q3:\n",
    "col3 = ['opioid_claim_count', 'nppes_provider_state']\n",
    "d_q3 = df17[[col3[0],col3[1]]]\n",
    "d_result = d_q3[d_q3[col3[0]]>=100][col3]\n",
    "d_q3_pair = d_result.groupby(col3[1]).mean()\n",
    "dd = dict(zip(d_q3_pair.index,  d_q3_pair['opioid_claim_count']))\n",
    "d_result['avr/count'] = d_result[col3[1]].apply(lambda x: dd[x]) / d_result[col3[0]]\n",
    "ans3 = d_result['avr/count'].max()\n",
    "print('Q3: {}\\n'.format(ans3))\n",
    "\n",
    "#Q4\n",
    "col4 = ['total_day_supply', 'total_claim_count']\n",
    "d_q4 = df17[(df17[col4[0]]>10) & (df17[col4[1]]>10)][col4]\n",
    "d_q4['avr'] = d_q4[col4[0]] / d_q4[col4[1]]\n",
    "d_ans4 = d_q4[d_q4['avr'] == d_q4['avr'].median()]\n",
    "ans4 = list(d_ans4['total_day_supply'])[0]\n",
    "print('Q4: {}\\n'.format(ans4))\n",
    "\n",
    "#Q5:\n",
    "col5 = ['opioid_bene_count', 'antibiotic_bene_count', 'nppes_provider_state']\n",
    "d_q5 = df17[(df17['opioid_bene_count']>10) & (df17['antibiotic_bene_count']>10)][col5]\n",
    "d_sol = d_q5[col5].groupby([col5[-1]]).sum()\n",
    "d_sol['opioid/antibiotic'] = d_sol[col5[0]] / d_sol[col5[1]]\n",
    "ans5 = d_sol['opioid/antibiotic'].max() - d_sol['opioid/antibiotic'].min()\n",
    "print('Q5: {}\\n'.format(ans5))\n",
    "\n",
    "#Q6:\n",
    "col6 = ['total_claim_count_ge65', 'lis_claim_count', 'total_claim_count']\n",
    "d_q6 = df17[(df17[col6[0]]>10) & (df17[col6[1]]>10) & (df17[col6[2]]>10)][col6]\n",
    "d_q6['ge65_total_claim'] = d_q6[col6[0]] / d_q6[col6[2]]\n",
    "d_q6['lis_claim_total_claim'] = d_q6[col6[1]] / d_q6[col6[2]]\n",
    "ans6 = d_q6[['ge65_total_claim','lis_claim_total_claim']].corr(method='pearson')\n",
    "ans6 = list(ans6['ge65_total_claim'])[-1]\n",
    "print('Q6: {}\\n'.format(ans6))\n",
    "\n",
    "#Q7:\n",
    "col7 = ['npi', 'total_drug_cost', 'total_day_supply']\n",
    "d_q7_6 = df16[(df16[col7[1]]>10) & (df16[col7[2]]>10) & (df16[col7[0]].notnull())][col7]\n",
    "d_q7_6['avr_per_day'] = df16[col7[1]]/df16[col7[2]]\n",
    "d_q7_7 = df17[(df17[col7[1]]>10) & (df17[col7[2]]>10) & (df17[col7[0]].notnull())][col7]\n",
    "d_q7_7['avr_per_day'] = df17[col7[1]]/df17[col7[2]]\n",
    "result = pd.merge(d_q7_6, d_q7_7, how='inner', on='npi')\n",
    "result['rate'] = ((result['avr_per_day_y']-result['avr_per_day_x'])/result['avr_per_day_x'])*100\n",
    "ans7 = result['rate'].mean()\n",
    "print('Q7: {}\\n'.format(ans7))\n",
    "\n",
    "#Q8:\n",
    "col8 = ['npi', 'specialty_description']\n",
    "d_q8_6= df16[(df16[col8[0]].notnull()) & (df16[col8[1]].notnull())][col8]\n",
    "d_q8_6 = d_q8_6[col8].groupby(col8[1],as_index=False).count()\n",
    "col8 = ['npi', 'specialty_description']\n",
    "d_q8_7= df17[(df17[col8[0]].notnull()) & (df17[col8[1]].notnull())][col8]\n",
    "d_q8_7 = d_q8_7[col8].groupby(col8[1],as_index=False).count()\n",
    "result = pd.merge(d_q8_6, d_q8_7, how='inner', on='specialty_description')\n",
    "result['frac_left'] = (result['npi_x']-result['npi_y'])/result['npi_x']\n",
    "result = result[result['npi_x']>=1000]\n",
    "ans8 = result['frac_left'].max()\n",
    "print('Q8: {}\\n'.format(ans8))"
   ]
  },
  {
   "cell_type": "markdown",
   "metadata": {},
   "source": [
    "# Section 3:\n",
    "___\n"
   ]
  },
  {
   "cell_type": "markdown",
   "metadata": {},
   "source": [
    "Coins with values 1 through N (inclusive) are placed into a bag. All the coins from the bag are iteratively drawn (without replacement) at random. For the first coin, you are paid the value of the coin. For subsequent coins, you are paid the absolute difference between the drawn coin and the previously drawn coin. For example, if you drew 5,3,2,4,1, your payments would be 5,2,1,2,3 for a total payment of 13.\n",
    "\n",
    "Please provide 5 digits of precision for all answers."
   ]
  },
  {
   "cell_type": "code",
   "execution_count": 1,
   "metadata": {},
   "outputs": [],
   "source": [
    "import random as rn\n",
    "import statistics as st\n",
    "import itertools"
   ]
  },
  {
   "cell_type": "code",
   "execution_count": 3,
   "metadata": {},
   "outputs": [],
   "source": [
    "def payments(N):\n",
    "    #rn.seed(0)\n",
    "    num = rn.sample(range(1,N+1), N)\n",
    "    pay = [0]*N\n",
    "    total_pay = 0\n",
    "    for i in range(N):\n",
    "        if i == 0:\n",
    "            pay[i] = num[i]\n",
    "            total_pay += pay[i]\n",
    "        else:\n",
    "            pay[i] = abs(num[i]-num[i-1])\n",
    "            total_pay += pay[i]\n",
    "    return num, pay, total_pay\n",
    "\n",
    "def prob_payment(N, total_expected):\n",
    "    num = list(itertools.permutations(range(1,N+1)))\n",
    "    pay = [0]*len(num)\n",
    "    count = 0\n",
    "    for k,j in enumerate(num):\n",
    "        total_pay = 0\n",
    "        for i in range(N):\n",
    "            if i == 0:\n",
    "                total_pay += j[i]\n",
    "            else:\n",
    "                total_pay += abs(j[i]-j[i-1])\n",
    "        if total_pay >= total_expected:\n",
    "            count += 1\n",
    "        pay[k] = total_pay\n",
    "    return count / len(num)\n",
    "\n",
    "def prob_cal_payment(N,t):\n",
    "    count = 0\n",
    "    for i in range(0,10000000+1):\n",
    "        _, _, total_pay = payments(N)\n",
    "        if total_pay >= t:\n",
    "            count += 1\n",
    "    return count/(i+1)"
   ]
  },
  {
   "cell_type": "code",
   "execution_count": 3,
   "metadata": {},
   "outputs": [
    {
     "name": "stdout",
     "output_type": "stream",
     "text": [
      "[7, 4, 1, 6, 10, 8, 9, 5, 2, 3] [7, 3, 3, 5, 4, 2, 1, 4, 3, 1] 33\n"
     ]
    }
   ],
   "source": [
    "num, pay, total_pay = payments(10)\n",
    "print(num, pay, total_pay)"
   ]
  },
  {
   "cell_type": "markdown",
   "metadata": {},
   "source": [
    "## Q1:\n",
    "What is the mean of your total payment for N=10?"
   ]
  },
  {
   "cell_type": "code",
   "execution_count": 6,
   "metadata": {},
   "outputs": [
    {
     "name": "stdout",
     "output_type": "stream",
     "text": [
      "Q1: 2.8\n",
      "\n",
      "[2, 6, 9, 10, 7, 5, 8, 1, 3, 4] [2, 4, 3, 1, 3, 2, 3, 7, 2, 1] 28\n"
     ]
    }
   ],
   "source": [
    "N = 10\n",
    "num, pay, total_pay = payments(N)\n",
    "ans1 = st.mean(pay)\n",
    "print('Q1: {}\\n'.format(ans1))\n",
    "print(num, pay, total_pay)"
   ]
  },
  {
   "cell_type": "markdown",
   "metadata": {},
   "source": [
    "## Q2:\n",
    "What is the mean of your total payment for N=20?"
   ]
  },
  {
   "cell_type": "code",
   "execution_count": 10,
   "metadata": {},
   "outputs": [
    {
     "name": "stdout",
     "output_type": "stream",
     "text": [
      "Q1: 7.15\n",
      "\n"
     ]
    }
   ],
   "source": [
    "N = 20\n",
    "num, pay, total_pay = payments(N)\n",
    "ans2 = st.mean(pay)\n",
    "print('Q1: {}\\n'.format(ans2))"
   ]
  },
  {
   "cell_type": "markdown",
   "metadata": {},
   "source": [
    "## Q3:\n",
    "What is the probability that your total payment is greater than or equal to 45 for N=10?"
   ]
  },
  {
   "cell_type": "code",
   "execution_count": 11,
   "metadata": {},
   "outputs": [
    {
     "name": "stdout",
     "output_type": "stream",
     "text": [
      "Q3: 0.18181738181826182\n",
      "\n"
     ]
    }
   ],
   "source": [
    "p = prob_cal_payment(10,45)\n",
    "print('Q3: {}\\n'.format(p))"
   ]
  },
  {
   "cell_type": "code",
   "execution_count": 12,
   "metadata": {},
   "outputs": [
    {
     "name": "stdout",
     "output_type": "stream",
     "text": [
      "Q3: 0.1817956349206349\n",
      "\n"
     ]
    }
   ],
   "source": [
    "p = prob_payment(10, 45)\n",
    "print('Q3: {}\\n'.format(p))"
   ]
  },
  {
   "cell_type": "code",
   "execution_count": 5,
   "metadata": {},
   "outputs": [
    {
     "data": {
      "text/plain": [
       "-0.011962277112099129"
      ]
     },
     "execution_count": 5,
     "metadata": {},
     "output_type": "execute_result"
    }
   ],
   "source": [
    "((0.1817956349206349-0.18181738181826182)/0.1817956349206349)*100"
   ]
  },
  {
   "cell_type": "markdown",
   "metadata": {},
   "source": [
    "## Q4:\n",
    "What is the standard deviation of your total payment for N=10?"
   ]
  },
  {
   "cell_type": "code",
   "execution_count": 83,
   "metadata": {},
   "outputs": [
    {
     "name": "stdout",
     "output_type": "stream",
     "text": [
      "Q4: 2.8596814119369625\n",
      "\n"
     ]
    }
   ],
   "source": [
    "N = 10\n",
    "num, pay, total_pay = payments(N)\n",
    "ans4 = st.stdev(pay)\n",
    "print('Q4: {}\\n'.format(ans4))"
   ]
  },
  {
   "cell_type": "markdown",
   "metadata": {},
   "source": [
    "## Q5:\n",
    "What is the standard deviation of your total payment for N=20?"
   ]
  },
  {
   "cell_type": "code",
   "execution_count": 84,
   "metadata": {},
   "outputs": [
    {
     "name": "stdout",
     "output_type": "stream",
     "text": [
      "Q5: 5.062504061076994\n",
      "\n"
     ]
    }
   ],
   "source": [
    "N = 20\n",
    "num, pay, total_pay = payments(N)\n",
    "ans5 = st.stdev(pay)\n",
    "print('Q5: {}\\n'.format(ans5))"
   ]
  },
  {
   "cell_type": "markdown",
   "metadata": {},
   "source": [
    "## Q6:\n",
    "What is the probability that your total payment is greater than or equal to 160 for N=20?"
   ]
  },
  {
   "cell_type": "code",
   "execution_count": 4,
   "metadata": {},
   "outputs": [
    {
     "name": "stdout",
     "output_type": "stream",
     "text": [
      "Q6: 0.19765348023465198\n",
      "\n"
     ]
    }
   ],
   "source": [
    "p = prob_cal_payment(20,160)\n",
    "print('Q6: {}\\n'.format(p))"
   ]
  },
  {
   "cell_type": "code",
   "execution_count": null,
   "metadata": {},
   "outputs": [],
   "source": []
  },
  {
   "cell_type": "code",
   "execution_count": null,
   "metadata": {},
   "outputs": [],
   "source": [
    "#Import Libraries\n",
    "import random as rn\n",
    "import statistics as st\n",
    "\n",
    "#define payment functions\n",
    "def payments(N):\n",
    "    #rn.seed(0)\n",
    "    num = rn.sample(range(1,N+1), N)\n",
    "    pay = [0]*N\n",
    "    total_pay = 0\n",
    "    for i in range(N):\n",
    "        if i == 0:\n",
    "            pay[i] = num[i]\n",
    "            total_pay += pay[i]\n",
    "        else:\n",
    "            pay[i] = abs(num[i]-num[i-1])\n",
    "            total_pay += pay[i]\n",
    "    return num, pay, total_pay\n",
    "\n",
    "def prob_payment(N, total_expected):\n",
    "    num = list(itertools.permutations(range(1,N+1)))\n",
    "    pay = [0]*len(num)\n",
    "    count = 0\n",
    "    for k,j in enumerate(num):\n",
    "        total_pay = 0\n",
    "        for i in range(N):\n",
    "            if i == 0:\n",
    "                total_pay += j[i]\n",
    "            else:\n",
    "                total_pay += abs(j[i]-j[i-1])\n",
    "        if total_pay >= total_expected:\n",
    "            count += 1\n",
    "        pay[k] = total_pay\n",
    "    return count / len(num)\n",
    "\n",
    "def prob_cal_payment(N,t):\n",
    "    count = 0\n",
    "    for i in range(10000000):\n",
    "        _, _, total_pay = payments(N)\n",
    "        if total_pay >= t:\n",
    "            count += 1\n",
    "    return count/(i+1)\n",
    "\n",
    "#Check output to confirm workability of function\n",
    "num, pay, total_pay = payments(5)\n",
    "print(num, pay, total_pay)\n",
    "\n",
    "#Q1:\n",
    "N = 10\n",
    "num, pay, total_pay = payments(N)\n",
    "ans1 = st.mean(pay)\n",
    "print('Q1: {}\\n'.format(ans1))\n",
    "\n",
    "#Q2:\n",
    "N = 20\n",
    "num, pay, total_pay = payments(N)\n",
    "ans2 = st.mean(pay)\n",
    "print('Q1: {}\\n'.format(ans2))\n",
    "\n",
    "#Q3:\n",
    "p3 = prob_cal_payment(10,45)\n",
    "print('Q3: {}\\n'.format(p3))\n",
    "\n",
    "#Q4:\n",
    "N = 10\n",
    "num, pay, total_pay = payments(N)\n",
    "ans4 = st.stdev(pay)\n",
    "print('Q4: {}\\n'.format(ans4))\n",
    "\n",
    "#Q5:\n",
    "N = 20\n",
    "num, pay, total_pay = payments(N)\n",
    "ans5 = st.stdev(pay)\n",
    "print('Q5: {}\\n'.format(ans5))\n",
    "\n",
    "#Q6:\n",
    "p6 = prob_cal_payment(20,160)\n",
    "print('Q6: {}\\n'.format(p6))"
   ]
  },
  {
   "cell_type": "code",
   "execution_count": null,
   "metadata": {},
   "outputs": [],
   "source": []
  }
 ],
 "metadata": {
  "kernelspec": {
   "display_name": "Python 3",
   "language": "python",
   "name": "python3"
  },
  "language_info": {
   "codemirror_mode": {
    "name": "ipython",
    "version": 3
   },
   "file_extension": ".py",
   "mimetype": "text/x-python",
   "name": "python",
   "nbconvert_exporter": "python",
   "pygments_lexer": "ipython3",
   "version": "3.7.7"
  }
 },
 "nbformat": 4,
 "nbformat_minor": 4
}

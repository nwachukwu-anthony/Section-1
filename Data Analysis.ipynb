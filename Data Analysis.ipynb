{
 "cells": [
  {
   "cell_type": "markdown",
   "metadata": {},
   "source": [
    "## Import Libraries\n",
    "___"
   ]
  },
  {
   "cell_type": "code",
   "execution_count": 307,
   "metadata": {},
   "outputs": [],
   "source": [
    "from urllib.request import urlopen\n",
    "import pandas as pd\n",
    "from shutil import unpack_archive\n",
    "import requests, zipfile, io\n",
    "import urllib.request\n",
    "from bs4 import BeautifulSoup\n",
    "import csv\n",
    "import os"
   ]
  },
  {
   "cell_type": "markdown",
   "metadata": {},
   "source": [
    "## Download Datasets\n",
    "___ \n",
    "\n"
   ]
  },
  {
   "cell_type": "markdown",
   "metadata": {},
   "source": [
    "#### Create data directory"
   ]
  },
  {
   "cell_type": "code",
   "execution_count": 308,
   "metadata": {},
   "outputs": [],
   "source": [
    "os.mkdir('./data')"
   ]
  },
  {
   "cell_type": "markdown",
   "metadata": {},
   "source": [
    "#### Text correction data set\n",
    "url1 = https://www.comp.nus.edu.sg/~nlp/sw/10gec_annotations.zip"
   ]
  },
  {
   "cell_type": "code",
   "execution_count": 14,
   "metadata": {},
   "outputs": [],
   "source": [
    "url = 'http://www.comp.nus.edu.sg/~nlp/sw/sm_norm_mt.tar.gz'\n",
    "urllib.request.urlretrieve(url, './data/sm_norm_mt.tar.gz')\n",
    "unpack_archive('./data/sm_norm_mt.tar.gz', './data/sm_norm_mt')"
   ]
  },
  {
   "cell_type": "markdown",
   "metadata": {},
   "source": [
    "#### Grammar Check dataset"
   ]
  },
  {
   "cell_type": "code",
   "execution_count": 111,
   "metadata": {},
   "outputs": [],
   "source": [
    "url = 'https://www.comp.nus.edu.sg/~nlp/conll14st/conll14st-test-data.tar.gz'\n",
    "urllib.request.urlretrieve(url, './data/conll14st-test-data.tar.gz')\n",
    "unpack_archive('./data/conll14st-test-data.tar.gz', './data/conll14st-test')"
   ]
  },
  {
   "cell_type": "markdown",
   "metadata": {},
   "source": [
    "#### Social media text normalization data\n",
    "url2 = http://www.comp.nus.edu.sg/~nlp/sw/sm_norm_mt.tar.gz"
   ]
  },
  {
   "cell_type": "code",
   "execution_count": 15,
   "metadata": {},
   "outputs": [],
   "source": [
    "url = 'https://www.comp.nus.edu.sg/~nlp/sw/10gec_annotations.zip'\n",
    "urllib.request.urlretrieve(url, './data/10gec_annotations.zip')\n",
    "unpack_archive('./data/10gec_annotations.zip', './data/10gec_annotations')"
   ]
  },
  {
   "cell_type": "markdown",
   "metadata": {},
   "source": [
    "#### Cornell Movie--Dialogs Corpus\n",
    "url3 = http://www.cs.cornell.edu/~cristian/data/cornell_movie_dialogs_corpus.zip"
   ]
  },
  {
   "cell_type": "code",
   "execution_count": 16,
   "metadata": {},
   "outputs": [],
   "source": [
    "url = 'http://www.cs.cornell.edu/~cristian/data/cornell_movie_dialogs_corpus.zip'\n",
    "urllib.request.urlretrieve(url, './data/cornell_movie_dialogs_corpus.zip')\n",
    "unpack_archive('./data/cornell_movie_dialogs_corpus.zip', './data/cornell_movie_dialogs_corpus')"
   ]
  },
  {
   "cell_type": "markdown",
   "metadata": {},
   "source": [
    "#### Mispelt words\n",
    "url4 = https://en.wikipedia.org/wiki/Wikipedia:Lists_of_common_misspellings/For_machines"
   ]
  },
  {
   "cell_type": "code",
   "execution_count": 102,
   "metadata": {},
   "outputs": [],
   "source": [
    "url = 'https://en.wikipedia.org/wiki/Wikipedia:Lists_of_common_misspellings/For_machines'\n",
    "html_text = urlopen(url).read().decode(\"utf-8\")\n",
    "\n",
    "soup = BeautifulSoup(html_text)\n",
    "soup = soup.findAll(\"pre\")[0].renderContents().decode('latin-1').strip()\n",
    "soup = soup.split('\\n')"
   ]
  },
  {
   "cell_type": "code",
   "execution_count": 106,
   "metadata": {},
   "outputs": [],
   "source": [
    "reviews = [['incorrect','correct']]\n",
    "for string in soup:\n",
    "    words = string.split('-&gt;')\n",
    "    if len(words[1].split(',')) > 1:\n",
    "        for word in words[1].split(','):\n",
    "            reviews.append([words[0],word])\n",
    "    else:\n",
    "        reviews.append([words[0],words[1]])"
   ]
  },
  {
   "cell_type": "code",
   "execution_count": 107,
   "metadata": {},
   "outputs": [],
   "source": [
    "with open('./data/cornell_movie_dialogs.csv', \"w\") as f:\n",
    "    writer = csv.writer(f)\n",
    "    writer.writerows(reviews)"
   ]
  },
  {
   "cell_type": "markdown",
   "metadata": {},
   "source": [
    "## Investigate Data Sets\n",
    "___"
   ]
  },
  {
   "cell_type": "markdown",
   "metadata": {},
   "source": [
    "### Data for Spelling Checker\n"
   ]
  },
  {
   "cell_type": "code",
   "execution_count": 108,
   "metadata": {},
   "outputs": [
    {
     "data": {
      "text/html": [
       "<div>\n",
       "<style scoped>\n",
       "    .dataframe tbody tr th:only-of-type {\n",
       "        vertical-align: middle;\n",
       "    }\n",
       "\n",
       "    .dataframe tbody tr th {\n",
       "        vertical-align: top;\n",
       "    }\n",
       "\n",
       "    .dataframe thead th {\n",
       "        text-align: right;\n",
       "    }\n",
       "</style>\n",
       "<table border=\"1\" class=\"dataframe\">\n",
       "  <thead>\n",
       "    <tr style=\"text-align: right;\">\n",
       "      <th></th>\n",
       "      <th>incorrect</th>\n",
       "      <th>correct</th>\n",
       "    </tr>\n",
       "  </thead>\n",
       "  <tbody>\n",
       "    <tr>\n",
       "      <th>0</th>\n",
       "      <td>abandonned</td>\n",
       "      <td>abandoned</td>\n",
       "    </tr>\n",
       "    <tr>\n",
       "      <th>1</th>\n",
       "      <td>aberation</td>\n",
       "      <td>aberration</td>\n",
       "    </tr>\n",
       "    <tr>\n",
       "      <th>2</th>\n",
       "      <td>abilityes</td>\n",
       "      <td>abilities</td>\n",
       "    </tr>\n",
       "    <tr>\n",
       "      <th>3</th>\n",
       "      <td>abilties</td>\n",
       "      <td>abilities</td>\n",
       "    </tr>\n",
       "    <tr>\n",
       "      <th>4</th>\n",
       "      <td>abilty</td>\n",
       "      <td>ability</td>\n",
       "    </tr>\n",
       "  </tbody>\n",
       "</table>\n",
       "</div>"
      ],
      "text/plain": [
       "    incorrect     correct\n",
       "0  abandonned   abandoned\n",
       "1   aberation  aberration\n",
       "2   abilityes   abilities\n",
       "3    abilties   abilities\n",
       "4      abilty     ability"
      ]
     },
     "execution_count": 108,
     "metadata": {},
     "output_type": "execute_result"
    }
   ],
   "source": [
    "df = pd.read_csv('./data/cornell_movie_dialogs.csv')\n",
    "df.head()"
   ]
  },
  {
   "cell_type": "code",
   "execution_count": 109,
   "metadata": {},
   "outputs": [
    {
     "data": {
      "text/plain": [
       "(4518, 2)"
      ]
     },
     "execution_count": 109,
     "metadata": {},
     "output_type": "execute_result"
    }
   ],
   "source": [
    "df.shape"
   ]
  },
  {
   "cell_type": "markdown",
   "metadata": {},
   "source": [
    "### Data for Grammar Checker"
   ]
  },
  {
   "cell_type": "code",
   "execution_count": 112,
   "metadata": {},
   "outputs": [],
   "source": [
    "#load data\n",
    "path = './data/conll14st-test/conll14st-test-data/alt/official-2014.combined-withalt.m2'\n",
    "with open(path, 'r') as f:\n",
    "    content = f.read()"
   ]
  },
  {
   "cell_type": "code",
   "execution_count": 304,
   "metadata": {},
   "outputs": [],
   "source": [
    "#Uncomment to print print data\n",
    "#print(content)"
   ]
  },
  {
   "cell_type": "markdown",
   "metadata": {},
   "source": [
    "#### Preprocess data"
   ]
  },
  {
   "cell_type": "code",
   "execution_count": 116,
   "metadata": {},
   "outputs": [],
   "source": [
    "grammar_data = [i.split('\\n') for i in content.split('\\n\\n')]"
   ]
  },
  {
   "cell_type": "code",
   "execution_count": 301,
   "metadata": {},
   "outputs": [],
   "source": [
    "data = [['incorrect','correct']]\n",
    "for line in grammar_data:\n",
    "    SS = []\n",
    "    S = line[0].split(' ')\n",
    "    origin = line[0].split(' ')\n",
    "    index_collection = []\n",
    "    \n",
    "    if len(line) == 1:\n",
    "        data.append([line[0][2:],line[0][2:]])\n",
    "    elif len(line) != 0:\n",
    "        for i in line[1:][::-1]:\n",
    "            A = i.split('|||')\n",
    "            index = A[0].split(' ')[1:]\n",
    "\n",
    "            if (index[0] == index[1]) or (index[0] == '-1'):\n",
    "                continue\n",
    "\n",
    "            elif index[0] not in index_collection:\n",
    "                post = A[2].split()\n",
    "\n",
    "                if len(S[int(index[0])+1:int(index[1])+1]) < len(A[2].split()):\n",
    "                    S[int(index[0])+1:int(index[1])+1] = [A[2].split()]+[' ']*(len(S[int(index[0])+1:int(index[1])+1]) - 1)\n",
    "                elif len(S[int(index[0])+1:int(index[1])+1]) > len(A[2].split()):\n",
    "                    S[int(index[0])+1:int(index[1])+1] = [A[2].split()]+[' ']*(len(S[int(index[0])+1:int(index[1])+1]) - len(A[2].split()))\n",
    "                else:\n",
    "                    S[int(index[0])+1:int(index[1])+1] = A[2].split()\n",
    "\n",
    "        index_collection.append(index[0])\n",
    "\n",
    "        for s in S:\n",
    "            if type(s) == list:\n",
    "                for i in s:\n",
    "                    SS.append(i)\n",
    "            else:\n",
    "                SS.append(s)\n",
    "        data.append([\" \".join(line[0].split(' ')[1:]),\" \".join(SS[1:])])\n",
    "    \n",
    "#print(data)"
   ]
  },
  {
   "cell_type": "code",
   "execution_count": 297,
   "metadata": {},
   "outputs": [],
   "source": [
    "with open('./data/conll14st-test-data.csv', \"w\") as f:\n",
    "    writer = csv.writer(f)\n",
    "    writer.writerows(data)"
   ]
  },
  {
   "cell_type": "code",
   "execution_count": 298,
   "metadata": {},
   "outputs": [
    {
     "data": {
      "text/html": [
       "<div>\n",
       "<style scoped>\n",
       "    .dataframe tbody tr th:only-of-type {\n",
       "        vertical-align: middle;\n",
       "    }\n",
       "\n",
       "    .dataframe tbody tr th {\n",
       "        vertical-align: top;\n",
       "    }\n",
       "\n",
       "    .dataframe thead th {\n",
       "        text-align: right;\n",
       "    }\n",
       "</style>\n",
       "<table border=\"1\" class=\"dataframe\">\n",
       "  <thead>\n",
       "    <tr style=\"text-align: right;\">\n",
       "      <th></th>\n",
       "      <th>incorrect</th>\n",
       "      <th>correct</th>\n",
       "    </tr>\n",
       "  </thead>\n",
       "  <tbody>\n",
       "    <tr>\n",
       "      <th>0</th>\n",
       "      <td>Keeping the Secret of Genetic Testing</td>\n",
       "      <td>Keeping the Secret of Genetic Testing</td>\n",
       "    </tr>\n",
       "    <tr>\n",
       "      <th>1</th>\n",
       "      <td>What is genetic risk ?</td>\n",
       "      <td>What is genetic risk ?</td>\n",
       "    </tr>\n",
       "    <tr>\n",
       "      <th>2</th>\n",
       "      <td>Genetic risk refers more to your chance of inh...</td>\n",
       "      <td>Genetic risk refers   to your chance of inheri...</td>\n",
       "    </tr>\n",
       "    <tr>\n",
       "      <th>3</th>\n",
       "      <td>People get certain disease because of genetic ...</td>\n",
       "      <td>People get certain diseases because of genetic...</td>\n",
       "    </tr>\n",
       "    <tr>\n",
       "      <th>4</th>\n",
       "      <td>How much a genetic change tells us about your ...</td>\n",
       "      <td>How much a genetic change tells us about your ...</td>\n",
       "    </tr>\n",
       "  </tbody>\n",
       "</table>\n",
       "</div>"
      ],
      "text/plain": [
       "                                           incorrect  \\\n",
       "0              Keeping the Secret of Genetic Testing   \n",
       "1                             What is genetic risk ?   \n",
       "2  Genetic risk refers more to your chance of inh...   \n",
       "3  People get certain disease because of genetic ...   \n",
       "4  How much a genetic change tells us about your ...   \n",
       "\n",
       "                                             correct  \n",
       "0              Keeping the Secret of Genetic Testing  \n",
       "1                             What is genetic risk ?  \n",
       "2  Genetic risk refers   to your chance of inheri...  \n",
       "3  People get certain diseases because of genetic...  \n",
       "4  How much a genetic change tells us about your ...  "
      ]
     },
     "execution_count": 298,
     "metadata": {},
     "output_type": "execute_result"
    }
   ],
   "source": [
    "df = pd.read_csv('./data/conll14st-test-data.csv')\n",
    "df.head()"
   ]
  },
  {
   "cell_type": "code",
   "execution_count": 299,
   "metadata": {},
   "outputs": [
    {
     "data": {
      "text/plain": [
       "(1313, 2)"
      ]
     },
     "execution_count": 299,
     "metadata": {},
     "output_type": "execute_result"
    }
   ],
   "source": [
    "df.shape"
   ]
  },
  {
   "cell_type": "code",
   "execution_count": 300,
   "metadata": {},
   "outputs": [
    {
     "name": "stdout",
     "output_type": "stream",
     "text": [
      "Incorrect:\n",
      "On one hand , we do not want this potential danger causing firghtenning affects in our families ' later lives .\n",
      "\n",
      "Correct:\n",
      "On the one hand we do not want this potential danger having frightening effects on our families ' later lives .\n"
     ]
    }
   ],
   "source": [
    "#Examine a data point\n",
    "print(\"Incorrect:\\n{}\\n\\nCorrect:\\n{}\".format(df.iloc[11]['incorrect'],df.iloc[11]['correct']))"
   ]
  },
  {
   "cell_type": "code",
   "execution_count": null,
   "metadata": {},
   "outputs": [],
   "source": []
  },
  {
   "cell_type": "code",
   "execution_count": null,
   "metadata": {},
   "outputs": [],
   "source": []
  }
 ],
 "metadata": {
  "kernelspec": {
   "display_name": "Python 3",
   "language": "python",
   "name": "python3"
  },
  "language_info": {
   "codemirror_mode": {
    "name": "ipython",
    "version": 3
   },
   "file_extension": ".py",
   "mimetype": "text/x-python",
   "name": "python",
   "nbconvert_exporter": "python",
   "pygments_lexer": "ipython3",
   "version": "3.7.7"
  }
 },
 "nbformat": 4,
 "nbformat_minor": 4
}

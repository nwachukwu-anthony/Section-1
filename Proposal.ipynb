{
 "cells": [
  {
   "cell_type": "markdown",
   "metadata": {
    "slideshow": {
     "slide_type": "slide"
    }
   },
   "source": [
    "# <center>GASC</center>\n",
    "### <center>(Grading Assistant & Students Companion)</center>"
   ]
  },
  {
   "cell_type": "markdown",
   "metadata": {
    "slideshow": {
     "slide_type": "slide"
    }
   },
   "source": [
    "## Motivation\n",
    "\n",
    "\n",
    "\n",
    "- Teachers suffer to grade test/examination papers especially when there are many of them.\n",
    "\n",
    "- Imagine a student preparing for an examination, he produces an answer to a given theoretical question. How will he grade himself? GASC can help out in this situation. He just have to collect sample solutions, feed them to GASC. Then upload his, and GASC does the scoring based on these information.\n",
    "\n",
    "**GASC is here to assist teachers and accompany students in their examination preparation.**"
   ]
  },
  {
   "cell_type": "markdown",
   "metadata": {
    "slideshow": {
     "slide_type": "slide"
    }
   },
   "source": [
    "## Why Use GASC?\n",
    "\n",
    "\n",
    "1. **Increase Speed:** GASC will accelerate the speed of test grading since it handles most of the works.\n",
    "\n",
    "- **Reduce Errors:** For many reasons, human errors were introduced in the marking.\n",
    "\n",
    "- **Avoid Sentiments:** As humans, it is difficult to avoid sentiments while making decisions. These sentiments could even be from anger over nonpayment of salary, the teachers, or even mental issues / psychological issues and hence affect how the grades are distributed.\n"
   ]
  },
  {
   "cell_type": "markdown",
   "metadata": {
    "slideshow": {
     "slide_type": "subslide"
    }
   },
   "source": [
    "4. **Reduce or check corruption:** School administrators can put checks on students grades reported by teachers by comparing it to the GASC reported grades.\n",
    "\n",
    "- **Reduce cost:** With the assistant of GASC, a workload ment for say 5 teachers, can be handled by 1.\n",
    "\n",
    "- **Srength/ Weakness Analysis:** GASC will be able to analyse student's strength/weakness and automatically generate a more reliable report.\n",
    "\n",
    "- **Student Companion**: For a student preparing for an external examination, he needs to produce an answer to a given theoretical question, collect sample solutions, feed them to GASC. Then upload his, and GASC does the scoring based on these information.\n",
    "\n",
    "- **Usefulness for Examination Bodies:** Examination bodies and Examination preparation bodies can use GASC to automate the grading of their theory section."
   ]
  },
  {
   "cell_type": "markdown",
   "metadata": {
    "slideshow": {
     "slide_type": "slide"
    }
   },
   "source": [
    "## Problem Statement\n",
    "\n",
    "\n",
    "We build an automatic grading system capable of grading and analyzing any theoretical question. While most systems available grade objective questions or traditional essay questions, we try to build a customizable system where any subject matter can be efficiently handled. The teacher/student just has to provide a solution (or sets of solution) to a given question of his choice which could be of any subject matter and the system returns:\n",
    "- a summary of student’s work,"
   ]
  },
  {
   "cell_type": "markdown",
   "metadata": {
    "slideshow": {
     "slide_type": "subslide"
    }
   },
   "source": [
    "- highlights wrong spellings and improper grammar usage with suggested corrections,\n",
    "- searches for keywords as defined by the teacher and prints the associated sentences,\n",
    "- compares the student's solution with the set of solutions from the teacher and computes similarity on both,\n",
    "- then finally prints a final score based on these parameters."
   ]
  },
  {
   "cell_type": "markdown",
   "metadata": {
    "slideshow": {
     "slide_type": "slide"
    }
   },
   "source": [
    "## Uniqueness of System\n",
    "\n",
    "While there are numerous systems to automatically grade exams delivered in objective mode, there are very few (and expensive) systems and mostly inaccessible that can auto-grade exam questions in subjective and theory mode. In fact, the systems I have come across only grade essays. Our system is tailored towards specific domain problems, classroom exam questions, and solutions provided by the teacher."
   ]
  },
  {
   "cell_type": "markdown",
   "metadata": {
    "slideshow": {
     "slide_type": "slide"
    }
   },
   "source": [
    "## Description of Solution\n",
    "\n",
    "Automated grading system: \n",
    "This system will utilize the power of Natural Language Processing and Machine Learning to process documents to grade human responses. The system will aim to solve the problems outlined above which are peculiar to the human grading system. Due to the complexity of this project, it could roughly be divided into 3 phases. \n",
    "\n",
    "#### Phase 1 (Grading System): \n",
    "The system will be able to accept questions and input in electronic form (from popular text formats such as text, CSV, doc, PDF, etc) where the characters do not come scanned documents or images.\n"
   ]
  },
  {
   "cell_type": "markdown",
   "metadata": {
    "slideshow": {
     "slide_type": "subslide"
    }
   },
   "source": [
    "#### Phase 2 (Feedback system): \n",
    "The feedback system will be incorporated which will give feedback on areas the student didn’t do well and needs assistance. The system will also analyze and summarize in a reliable way the strengths and weaknesses of students and give feedback to the child's parents/guardian, teacher, and school managements. The system will also be able to perform advanced analytics to see the performance of a student, class, cohort of students over time, and suggest recommendations, etc.\n",
    "\n",
    "#### Phase 3 (Grading System with OCR): \n",
    "In this phase, the exam questions could be printed on paper and passed through an OCR which first reads in the texts. In this phase too, the OCR should be able to reliably interpret the handwriting of the student.\n"
   ]
  },
  {
   "cell_type": "markdown",
   "metadata": {
    "slideshow": {
     "slide_type": "slide"
    }
   },
   "source": [
    "## Requirements\n",
    "\n",
    "- Data for training algorithm to identify wrong spellings\n",
    "- Data for training algorithm to wrong usage of grammar\n",
    "- Data for training algorithm to summarize document\n",
    "- Knowledge of HTML, CSS, JavaScript/JQuery, Bootstrap for building the frontend\n",
    "- Training algorithms like, NN, LSTM."
   ]
  }
 ],
 "metadata": {
  "kernelspec": {
   "display_name": "Python 3",
   "language": "python",
   "name": "python3"
  },
  "language_info": {
   "codemirror_mode": {
    "name": "ipython",
    "version": 3
   },
   "file_extension": ".py",
   "mimetype": "text/x-python",
   "name": "python",
   "nbconvert_exporter": "python",
   "pygments_lexer": "ipython3",
   "version": "3.7.7"
  }
 },
 "nbformat": 4,
 "nbformat_minor": 4
}
